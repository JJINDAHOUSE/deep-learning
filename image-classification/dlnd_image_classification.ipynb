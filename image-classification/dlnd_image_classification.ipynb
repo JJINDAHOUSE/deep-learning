{
 "cells": [
  {
   "cell_type": "markdown",
   "metadata": {
    "collapsed": true
   },
   "source": [
    "# Image Classification\n",
    "In this project, you'll classify images from the [CIFAR-10 dataset](https://www.cs.toronto.edu/~kriz/cifar.html).  The dataset consists of airplanes, dogs, cats, and other objects. You'll preprocess the images, then train a convolutional neural network on all the samples. The images need to be normalized and the labels need to be one-hot encoded.  You'll get to apply what you learned and build a convolutional, max pooling, dropout, and fully connected layers.  At the end, you'll get to see your neural network's predictions on the sample images.\n",
    "## Get the Data\n",
    "Run the following cell to download the [CIFAR-10 dataset for python](https://www.cs.toronto.edu/~kriz/cifar-10-python.tar.gz)."
   ]
  },
  {
   "cell_type": "code",
   "execution_count": 1,
   "metadata": {},
   "outputs": [
    {
     "name": "stderr",
     "output_type": "stream",
     "text": [
      "CIFAR-10 Dataset: 171MB [00:31, 5.37MB/s]                              \n"
     ]
    },
    {
     "name": "stdout",
     "output_type": "stream",
     "text": [
      "All files found!\n"
     ]
    }
   ],
   "source": [
    "\"\"\"\n",
    "DON'T MODIFY ANYTHING IN THIS CELL THAT IS BELOW THIS LINE\n",
    "\"\"\"\n",
    "from urllib.request import urlretrieve\n",
    "from os.path import isfile, isdir\n",
    "from tqdm import tqdm\n",
    "import problem_unittests as tests\n",
    "import tarfile\n",
    "\n",
    "cifar10_dataset_folder_path = 'cifar-10-batches-py'\n",
    "\n",
    "# Use Floyd's cifar-10 dataset if present\n",
    "floyd_cifar10_location = '/input/cifar-10/python.tar.gz'\n",
    "if isfile(floyd_cifar10_location):\n",
    "    tar_gz_path = floyd_cifar10_location\n",
    "else:\n",
    "    tar_gz_path = 'cifar-10-python.tar.gz'\n",
    "\n",
    "class DLProgress(tqdm):\n",
    "    last_block = 0\n",
    "\n",
    "    def hook(self, block_num=1, block_size=1, total_size=None):\n",
    "        self.total = total_size\n",
    "        self.update((block_num - self.last_block) * block_size)\n",
    "        self.last_block = block_num\n",
    "\n",
    "if not isfile(tar_gz_path):\n",
    "    with DLProgress(unit='B', unit_scale=True, miniters=1, desc='CIFAR-10 Dataset') as pbar:\n",
    "        urlretrieve(\n",
    "            'https://www.cs.toronto.edu/~kriz/cifar-10-python.tar.gz',\n",
    "            tar_gz_path,\n",
    "            pbar.hook)\n",
    "\n",
    "if not isdir(cifar10_dataset_folder_path):\n",
    "    with tarfile.open(tar_gz_path) as tar:\n",
    "        tar.extractall()\n",
    "        tar.close()\n",
    "\n",
    "\n",
    "tests.test_folder_path(cifar10_dataset_folder_path)"
   ]
  },
  {
   "cell_type": "markdown",
   "metadata": {},
   "source": [
    "## Explore the Data\n",
    "The dataset is broken into batches to prevent your machine from running out of memory.  The CIFAR-10 dataset consists of 5 batches, named `data_batch_1`, `data_batch_2`, etc.. Each batch contains the labels and images that are one of the following:\n",
    "* airplane\n",
    "* automobile\n",
    "* bird\n",
    "* cat\n",
    "* deer\n",
    "* dog\n",
    "* frog\n",
    "* horse\n",
    "* ship\n",
    "* truck\n",
    "\n",
    "Understanding a dataset is part of making predictions on the data.  Play around with the code cell below by changing the `batch_id` and `sample_id`. The `batch_id` is the id for a batch (1-5). The `sample_id` is the id for a image and label pair in the batch.\n",
    "\n",
    "Ask yourself \"What are all possible labels?\", \"What is the range of values for the image data?\", \"Are the labels in order or random?\".  Answers to questions like these will help you preprocess the data and end up with better predictions."
   ]
  },
  {
   "cell_type": "code",
   "execution_count": 13,
   "metadata": {},
   "outputs": [
    {
     "name": "stdout",
     "output_type": "stream",
     "text": [
      "\n",
      "Stats of batch 1:\n",
      "Samples: 10000\n",
      "Label Counts: {0: 1005, 1: 974, 2: 1032, 3: 1016, 4: 999, 5: 937, 6: 1030, 7: 1001, 8: 1025, 9: 981}\n",
      "First 20 Labels: [6, 9, 9, 4, 1, 1, 2, 7, 8, 3, 4, 7, 7, 2, 9, 9, 9, 3, 2, 6]\n",
      "\n",
      "Example of Image 0:\n",
      "Image - Min Value: 0 Max Value: 255\n",
      "Image - Shape: (32, 32, 3)\n",
      "Label - Label Id: 6 Name: frog\n"
     ]
    },
    {
     "data": {
      "image/png": "[encoded data removed]",
      "text/plain": [
       "<matplotlib.figure.Figure at 0x125f1e2b0>"
      ]
     },
     "metadata": {
      "image/png": {
       "height": 250,
       "width": 253
      }
     },
     "output_type": "display_data"
    }
   ],
   "source": [
    "%matplotlib inline\n",
    "%config InlineBackend.figure_format = 'retina'\n",
    "\n",
    "import helper\n",
    "import numpy as np\n",
    "\n",
    "# Explore the dataset\n",
    "batch_id = 1\n",
    "sample_id = 0\n",
    "helper.display_stats(cifar10_dataset_folder_path, batch_id, sample_id)"
   ]
  },
  {
   "cell_type": "markdown",
   "metadata": {},
   "source": [
    "## Implement Preprocess Functions\n",
    "### Normalize\n",
    "In the cell below, implement the `normalize` function to take in image data, `x`, and return it as a normalized Numpy array. The values should be in the range of 0 to 1, inclusive.  The return object should be the same shape as `x`."
   ]
  },
  {
   "cell_type": "code",
   "execution_count": 14,
   "metadata": {},
   "outputs": [
    {
     "name": "stdout",
     "output_type": "stream",
     "text": [
      "Tests Passed\n"
     ]
    }
   ],
   "source": [
    "def normalize(x):\n",
    "    \"\"\"\n",
    "    Normalize a list of sample image data in the range of 0 to 1\n",
    "    : x: List of image data.  The image shape is (32, 32, 3)\n",
    "    : return: Numpy array of normalize data\n",
    "    \"\"\"\n",
    "    # TODO: Implement Function\n",
    "    x_norm = (x - np.min(x)) / (np.max(x) - np.min(x))\n",
    "    return x_norm\n",
    "\n",
    "\n",
    "\"\"\"\n",
    "DON'T MODIFY ANYTHING IN THIS CELL THAT IS BELOW THIS LINE\n",
    "\"\"\"\n",
    "tests.test_normalize(normalize)"
   ]
  },
  {
   "cell_type": "markdown",
   "metadata": {},
   "source": [
    "### One-hot encode\n",
    "Just like the previous code cell, you'll be implementing a function for preprocessing.  This time, you'll implement the `one_hot_encode` function. The input, `x`, are a list of labels.  Implement the function to return the list of labels as One-Hot encoded Numpy array.  The possible values for labels are 0 to 9. The one-hot encoding function should return the same encoding for each value between each call to `one_hot_encode`.  Make sure to save the map of encodings outside the function.\n",
    "\n",
    "Hint: Don't reinvent the wheel."
   ]
  },
  {
   "cell_type": "code",
   "execution_count": 23,
   "metadata": {},
   "outputs": [
    {
     "name": "stdout",
     "output_type": "stream",
     "text": [
      "Tests Passed\n"
     ]
    }
   ],
   "source": [
    "def one_hot_encode(x):\n",
    "    \"\"\"\n",
    "    One hot encode a list of sample labels. Return a one-hot encoded vector for each label.\n",
    "    : x: List of sample Labels\n",
    "    : return: Numpy array of one-hot encoded labels\n",
    "    \"\"\"\n",
    "    # TODO: Implement Function\n",
    "    x_reshape = np.asarray(x)\n",
    "    labels = (np.arange(10) == x_reshape[:,None]).astype(np.float32)\n",
    "    return labels\n",
    "\n",
    "\n",
    "\"\"\"\n",
    "DON'T MODIFY ANYTHING IN THIS CELL THAT IS BELOW THIS LINE\n",
    "\"\"\"\n",
    "tests.test_one_hot_encode(one_hot_encode)"
   ]
  },
  {
   "cell_type": "markdown",
   "metadata": {},
   "source": [
    "### Randomize Data\n",
    "As you saw from exploring the data above, the order of the samples are randomized.  It doesn't hurt to randomize it again, but you don't need to for this dataset."
   ]
  },
  {
   "cell_type": "markdown",
   "metadata": {},
   "source": [
    "## Preprocess all the data and save it\n",
    "Running the code cell below will preprocess all the CIFAR-10 data and save it to file. The code below also uses 10% of the training data for validation."
   ]
  },
  {
   "cell_type": "code",
   "execution_count": 24,
   "metadata": {
    "collapsed": true
   },
   "outputs": [],
   "source": [
    "\"\"\"\n",
    "DON'T MODIFY ANYTHING IN THIS CELL\n",
    "\"\"\"\n",
    "# Preprocess Training, Validation, and Testing Data\n",
    "helper.preprocess_and_save_data(cifar10_dataset_folder_path, normalize, one_hot_encode)"
   ]
  },
  {
   "cell_type": "markdown",
   "metadata": {},
   "source": [
    "# Check Point\n",
    "This is your first checkpoint.  If you ever decide to come back to this notebook or have to restart the notebook, you can start from here.  The preprocessed data has been saved to disk."
   ]
  },
  {
   "cell_type": "code",
   "execution_count": 25,
   "metadata": {
    "collapsed": true
   },
   "outputs": [],
   "source": [
    "\"\"\"\n",
    "DON'T MODIFY ANYTHING IN THIS CELL\n",
    "\"\"\"\n",
    "import pickle\n",
    "import problem_unittests as tests\n",
    "import helper\n",
    "\n",
    "# Load the Preprocessed Validation data\n",
    "valid_features, valid_labels = pickle.load(open('preprocess_validation.p', mode='rb'))"
   ]
  },
  {
   "cell_type": "markdown",
   "metadata": {},
   "source": [
    "## Build the network\n",
    "For the neural network, you'll build each layer into a function.  Most of the code you've seen has been outside of functions. To test your code more thoroughly, we require that you put each layer in a function.  This allows us to give you better feedback and test for simple mistakes using our unittests before you submit your project.\n",
    "\n",
    ">**Note:** If you're finding it hard to dedicate enough time for this course each week, we've provided a small shortcut to this part of the project. In the next couple of problems, you'll have the option to use classes from the [TensorFlow Layers](https://www.tensorflow.org/api_docs/python/tf/layers) or [TensorFlow Layers (contrib)](https://www.tensorflow.org/api_guides/python/contrib.layers) packages to build each layer, except the layers you build in the \"Convolutional and Max Pooling Layer\" section.  TF Layers is similar to Keras's and TFLearn's abstraction to layers, so it's easy to pickup.\n",
    "\n",
    ">However, if you would like to get the most out of this course, try to solve all the problems _without_ using anything from the TF Layers packages. You **can** still use classes from other packages that happen to have the same name as ones you find in TF Layers! For example, instead of using the TF Layers version of the `conv2d` class, [tf.layers.conv2d](https://www.tensorflow.org/api_docs/python/tf/layers/conv2d), you would want to use the TF Neural Network version of `conv2d`, [tf.nn.conv2d](https://www.tensorflow.org/api_docs/python/tf/nn/conv2d). \n",
    "\n",
    "Let's begin!\n",
    "\n",
    "### Input\n",
    "The neural network needs to read the image data, one-hot encoded labels, and dropout keep probability. Implement the following functions\n",
    "* Implement `neural_net_image_input`\n",
    " * Return a [TF Placeholder](https://www.tensorflow.org/api_docs/python/tf/placeholder)\n",
    " * Set the shape using `image_shape` with batch size set to `None`.\n",
    " * Name the TensorFlow placeholder \"x\" using the TensorFlow `name` parameter in the [TF Placeholder](https://www.tensorflow.org/api_docs/python/tf/placeholder).\n",
    "* Implement `neural_net_label_input`\n",
    " * Return a [TF Placeholder](https://www.tensorflow.org/api_docs/python/tf/placeholder)\n",
    " * Set the shape using `n_classes` with batch size set to `None`.\n",
    " * Name the TensorFlow placeholder \"y\" using the TensorFlow `name` parameter in the [TF Placeholder](https://www.tensorflow.org/api_docs/python/tf/placeholder).\n",
    "* Implement `neural_net_keep_prob_input`\n",
    " * Return a [TF Placeholder](https://www.tensorflow.org/api_docs/python/tf/placeholder) for dropout keep probability.\n",
    " * Name the TensorFlow placeholder \"keep_prob\" using the TensorFlow `name` parameter in the [TF Placeholder](https://www.tensorflow.org/api_docs/python/tf/placeholder).\n",
    "\n",
    "These names will be used at the end of the project to load your saved model.\n",
    "\n",
    "Note: `None` for shapes in TensorFlow allow for a dynamic size."
   ]
  },
  {
   "cell_type": "code",
   "execution_count": 28,
   "metadata": {},
   "outputs": [
    {
     "name": "stdout",
     "output_type": "stream",
     "text": [
      "Image Input Tests Passed.\n",
      "Label Input Tests Passed.\n",
      "Keep Prob Tests Passed.\n"
     ]
    }
   ],
   "source": [
    "import tensorflow as tf\n",
    "\n",
    "def neural_net_image_input(image_shape):\n",
    "    \"\"\"\n",
    "    Return a Tensor for a batch of image input\n",
    "    : image_shape: Shape of the images\n",
    "    : return: Tensor for image input.\n",
    "    \"\"\"\n",
    "    # TODO: Implement Function\n",
    "    height = image_shape[0]\n",
    "    width = image_shape[1]\n",
    "    depth = image_shape[2]\n",
    "    return tf.placeholder(tf.float32, shape=(None, height, width, depth), name='x')\n",
    "\n",
    "\n",
    "def neural_net_label_input(n_classes):\n",
    "    \"\"\"\n",
    "    Return a Tensor for a batch of label input\n",
    "    : n_classes: Number of classes\n",
    "    : return: Tensor for label input.\n",
    "    \"\"\"\n",
    "    # TODO: Implement Function\n",
    "    return tf.placeholder(tf.float32, shape=(None, n_classes), name='y')\n",
    "\n",
    "\n",
    "def neural_net_keep_prob_input():\n",
    "    \"\"\"\n",
    "    Return a Tensor for keep probability\n",
    "    : return: Tensor for keep probability.\n",
    "    \"\"\"\n",
    "    # TODO: Implement Function\n",
    "    return tf.placeholder(tf.float32, name='keep_prob')\n",
    "\n",
    "\n",
    "\"\"\"\n",
    "DON'T MODIFY ANYTHING IN THIS CELL THAT IS BELOW THIS LINE\n",
    "\"\"\"\n",
    "tf.reset_default_graph()\n",
    "tests.test_nn_image_inputs(neural_net_image_input)\n",
    "tests.test_nn_label_inputs(neural_net_label_input)\n",
    "tests.test_nn_keep_prob_inputs(neural_net_keep_prob_input)"
   ]
  },
  {
   "cell_type": "markdown",
   "metadata": {},
   "source": [
    "### Convolution and Max Pooling Layer\n",
    "Convolution layers have a lot of success with images. For this code cell, you should implement the function `conv2d_maxpool` to apply convolution then max pooling:\n",
    "* Create the weight and bias using `conv_ksize`, `conv_num_outputs` and the shape of `x_tensor`.\n",
    "* Apply a convolution to `x_tensor` using weight and `conv_strides`.\n",
    " * We recommend you use same padding, but you're welcome to use any padding.\n",
    "* Add bias\n",
    "* Add a nonlinear activation to the convolution.\n",
    "* Apply Max Pooling using `pool_ksize` and `pool_strides`.\n",
    " * We recommend you use same padding, but you're welcome to use any padding.\n",
    "\n",
    "**Note:** You **can't** use [TensorFlow Layers](https://www.tensorflow.org/api_docs/python/tf/layers) or [TensorFlow Layers (contrib)](https://www.tensorflow.org/api_guides/python/contrib.layers) for **this** layer, but you can still use TensorFlow's [Neural Network](https://www.tensorflow.org/api_docs/python/tf/nn) package. You may still use the shortcut option for all the **other** layers."
   ]
  },
  {
   "cell_type": "code",
   "execution_count": 36,
   "metadata": {},
   "outputs": [
    {
     "name": "stdout",
     "output_type": "stream",
     "text": [
      "Tests Passed\n"
     ]
    }
   ],
   "source": [
    "def conv2d_maxpool(x_tensor, conv_num_outputs, conv_ksize, conv_strides, pool_ksize, pool_strides):\n",
    "    \"\"\"\n",
    "    Apply convolution then max pooling to x_tensor\n",
    "    :param x_tensor: TensorFlow Tensor\n",
    "    :param conv_num_outputs: Number of outputs for the convolutional layer\n",
    "    :param conv_ksize: kernal size 2-D Tuple for the convolutional layer\n",
    "    :param conv_strides: Stride 2-D Tuple for convolution\n",
    "    :param pool_ksize: kernal size 2-D Tuple for pool\n",
    "    :param pool_strides: Stride 2-D Tuple for pool\n",
    "    : return: A tensor that represents convolution and max pooling of x_tensor\n",
    "    \"\"\"\n",
    "    # TODO: Implement Function\n",
    "    weight = tf.Variable(tf.truncated_normal([conv_ksize[0],\n",
    "                                             conv_ksize[1],\n",
    "                                             x_tensor.get_shape().as_list()[-1],\n",
    "                                             conv_num_outputs],\n",
    "                                            stddev = 0.1))\n",
    "    bias = tf.Variable(tf.zeros(conv_num_outputs, dtype=tf.float32))\n",
    "    conv_layer = tf.nn.conv2d(x_tensor, weight, strides=[1, conv_strides[0], conv_strides[1], 1],\n",
    "                             padding='SAME')\n",
    "    conv_layer = tf.nn.bias_add(conv_layer, bias)\n",
    "    conv_layer = tf.nn.relu(conv_layer)\n",
    "    conv_layer = tf.nn.max_pool(conv_layer,\n",
    "                               ksize=[1, pool_ksize[0], pool_ksize[1], 1],\n",
    "                               strides = [1, pool_strides[0], pool_strides[1], 1],\n",
    "                               padding='SAME')\n",
    "    return conv_layer\n",
    "\n",
    "\n",
    "\"\"\"\n",
    "DON'T MODIFY ANYTHING IN THIS CELL THAT IS BELOW THIS LINE\n",
    "\"\"\"\n",
    "tests.test_con_pool(conv2d_maxpool)"
   ]
  },
  {
   "cell_type": "markdown",
   "metadata": {},
   "source": [
    "### Flatten Layer\n",
    "Implement the `flatten` function to change the dimension of `x_tensor` from a 4-D tensor to a 2-D tensor.  The output should be the shape (*Batch Size*, *Flattened Image Size*). Shortcut option: you can use classes from the [TensorFlow Layers](https://www.tensorflow.org/api_docs/python/tf/layers) or [TensorFlow Layers (contrib)](https://www.tensorflow.org/api_guides/python/contrib.layers) packages for this layer. For more of a challenge, only use other TensorFlow packages."
   ]
  },
  {
   "cell_type": "code",
   "execution_count": 45,
   "metadata": {},
   "outputs": [
    {
     "name": "stdout",
     "output_type": "stream",
     "text": [
      "Tests Passed\n"
     ]
    }
   ],
   "source": [
    "def flatten(x_tensor):\n",
    "    \"\"\"\n",
    "    Flatten x_tensor to (Batch Size, Flattened Image Size)\n",
    "    : x_tensor: A tensor of size (Batch Size, ...), where ... are the image dimensions.\n",
    "    : return: A tensor of size (Batch Size, Flattened Image Size).\n",
    "    \"\"\"\n",
    "    # TODO: Implement Function\n",
    "    flattened_size = x_tensor.shape[1] * x_tensor.shape[2] * x_tensor.shape[3]\n",
    "    return tf.reshape(x_tensor, [-1, flattened_size.value])\n",
    "\n",
    "\n",
    "\"\"\"\n",
    "DON'T MODIFY ANYTHING IN THIS CELL THAT IS BELOW THIS LINE\n",
    "\"\"\"\n",
    "tests.test_flatten(flatten)"
   ]
  },
  {
   "cell_type": "markdown",
   "metadata": {},
   "source": [
    "### Fully-Connected Layer\n",
    "Implement the `fully_conn` function to apply a fully connected layer to `x_tensor` with the shape (*Batch Size*, *num_outputs*). Shortcut option: you can use classes from the [TensorFlow Layers](https://www.tensorflow.org/api_docs/python/tf/layers) or [TensorFlow Layers (contrib)](https://www.tensorflow.org/api_guides/python/contrib.layers) packages for this layer. For more of a challenge, only use other TensorFlow packages."
   ]
  },
  {
   "cell_type": "code",
   "execution_count": 52,
   "metadata": {},
   "outputs": [
    {
     "name": "stdout",
     "output_type": "stream",
     "text": [
      "Tests Passed\n"
     ]
    }
   ],
   "source": [
    "def fully_conn(x_tensor, num_outputs):\n",
    "    \"\"\"\n",
    "    Apply a fully connected layer to x_tensor using weight and bias\n",
    "    : x_tensor: A 2-D tensor where the first dimension is batch size.\n",
    "    : num_outputs: The number of output that the new tensor should be.\n",
    "    : return: A 2-D tensor where the second dimension is num_outputs.\n",
    "    \"\"\"\n",
    "    # TODO: Implement Function\n",
    "    num_features = x_tensor.shape[1].value\n",
    "    weights = tf.Variable(tf.truncated_normal([num_features, num_outputs], stddev=0.1))\n",
    "    biases = tf.Variable(tf.zeros([num_outputs]))\n",
    "    fc = tf.add(tf.matmul(x_tensor, weights), biases)\n",
    "    fc = tf.nn.relu(fc)\n",
    "    return fc\n",
    "\n",
    "\n",
    "\"\"\"\n",
    "DON'T MODIFY ANYTHING IN THIS CELL THAT IS BELOW THIS LINE\n",
    "\"\"\"\n",
    "tests.test_fully_conn(fully_conn)"
   ]
  },
  {
   "cell_type": "markdown",
   "metadata": {},
   "source": [
    "### Output Layer\n",
    "Implement the `output` function to apply a fully connected layer to `x_tensor` with the shape (*Batch Size*, *num_outputs*). Shortcut option: you can use classes from the [TensorFlow Layers](https://www.tensorflow.org/api_docs/python/tf/layers) or [TensorFlow Layers (contrib)](https://www.tensorflow.org/api_guides/python/contrib.layers) packages for this layer. For more of a challenge, only use other TensorFlow packages.\n",
    "\n",
    "**Note:** Activation, softmax, or cross entropy should **not** be applied to this."
   ]
  },
  {
   "cell_type": "code",
   "execution_count": 53,
   "metadata": {},
   "outputs": [
    {
     "name": "stdout",
     "output_type": "stream",
     "text": [
      "Tests Passed\n"
     ]
    }
   ],
   "source": [
    "def output(x_tensor, num_outputs):\n",
    "    \"\"\"\n",
    "    Apply a output layer to x_tensor using weight and bias\n",
    "    : x_tensor: A 2-D tensor where the first dimension is batch size.\n",
    "    : num_outputs: The number of output that the new tensor should be.\n",
    "    : return: A 2-D tensor where the second dimension is num_outputs.\n",
    "    \"\"\"\n",
    "    # TODO: Implement Function\n",
    "    num_features = x_tensor.shape[1].value\n",
    "    weights = tf.Variable(tf.truncated_normal([num_features, num_outputs], stddev = 0.1))\n",
    "    biases = tf.Variable(tf.zeros([num_outputs]))\n",
    "    output_layer = tf.add(tf.matmul(x_tensor, weights), biases)\n",
    "    return output_layer\n",
    "\n",
    "\n",
    "\"\"\"\n",
    "DON'T MODIFY ANYTHING IN THIS CELL THAT IS BELOW THIS LINE\n",
    "\"\"\"\n",
    "tests.test_output(output)"
   ]
  },
  {
   "cell_type": "markdown",
   "metadata": {},
   "source": [
    "### Create Convolutional Model\n",
    "Implement the function `conv_net` to create a convolutional neural network model. The function takes in a batch of images, `x`, and outputs logits.  Use the layers you created above to create this model:\n",
    "\n",
    "* Apply 1, 2, or 3 Convolution and Max Pool layers\n",
    "* Apply a Flatten Layer\n",
    "* Apply 1, 2, or 3 Fully Connected Layers\n",
    "* Apply an Output Layer\n",
    "* Return the output\n",
    "* Apply [TensorFlow's Dropout](https://www.tensorflow.org/api_docs/python/tf/nn/dropout) to one or more layers in the model using `keep_prob`. "
   ]
  },
  {
   "cell_type": "code",
   "execution_count": 56,
   "metadata": {},
   "outputs": [
    {
     "name": "stdout",
     "output_type": "stream",
     "text": [
      "Neural Network Built!\n"
     ]
    }
   ],
   "source": [
    "def conv_net(x, keep_prob):\n",
    "    \"\"\"\n",
    "    Create a convolutional neural network model\n",
    "    : x: Placeholder tensor that holds image data.\n",
    "    : keep_prob: Placeholder tensor that hold dropout keep probability.\n",
    "    : return: Tensor that represents logits\n",
    "    \"\"\"\n",
    "    # TODO: Apply 1, 2, or 3 Convolution and Max Pool layers\n",
    "    #    Play around with different number of outputs, kernel size and stride\n",
    "    # Function Definition from Above:\n",
    "    #    conv2d_maxpool(x_tensor, conv_num_outputs, conv_ksize, conv_strides, pool_ksize, pool_strides)\n",
    "    num_conv_layers = 3\n",
    "    conv_num_outputs = [32, 64, 128]\n",
    "    conv_ksizes = [[3, 3], [3, 3], [3, 3]]\n",
    "    conv_strides = [[1, 1], [1, 1], [1, 1]]\n",
    "    pool_ksizes = [[2, 2], [2, 2], [2, 2]]\n",
    "    pool_strides = [[2, 2], [2, 2], [2, 2]]\n",
    "    \n",
    "    conv_layer = x\n",
    "    for i in range(num_conv_layers):\n",
    "        conv_layer = conv2d_maxpool(conv_layer, \n",
    "                                   conv_num_outputs[i],\n",
    "                                   conv_ksizes[i],\n",
    "                                   conv_strides[i],\n",
    "                                   pool_ksizes[i],\n",
    "                                   pool_strides[i])\n",
    "\n",
    "    # TODO: Apply a Flatten Layer\n",
    "    # Function Definition from Above:\n",
    "    #   flatten(x_tensor)\n",
    "    flatten_layer = flatten(conv_layer)\n",
    "    \n",
    "\n",
    "    # TODO: Apply 1, 2, or 3 Fully Connected Layers\n",
    "    #    Play around with different number of outputs\n",
    "    # Function Definition from Above:\n",
    "    #   fully_conn(x_tensor, num_outputs)\n",
    "    num_fully_conn_layers = 3\n",
    "    fully_num_outputs = 10\n",
    "    \n",
    "    fully_conn_layer = flatten_layer\n",
    "    for i in range(num_fully_conn_layers):\n",
    "        fully_conn_layer = fully_conn(fully_conn_layer, fully_num_outputs)\n",
    "        fully_conn_layer = tf.nn.dropout(fully_conn_layer, keep_prob)\n",
    "    \n",
    "    \n",
    "    # TODO: Apply an Output Layer\n",
    "    #    Set this to the number of classes\n",
    "    # Function Definition from Above:\n",
    "    #   output(x_tensor, num_outputs)\n",
    "    num_classes = 10\n",
    "    output_layer = output(fully_conn_layer, num_classes)\n",
    "    \n",
    "    # TODO: return output\n",
    "    return output_layer\n",
    "\n",
    "\n",
    "\"\"\"\n",
    "DON'T MODIFY ANYTHING IN THIS CELL THAT IS BELOW THIS LINE\n",
    "\"\"\"\n",
    "\n",
    "##############################\n",
    "## Build the Neural Network ##\n",
    "##############################\n",
    "\n",
    "# Remove previous weights, bias, inputs, etc..\n",
    "tf.reset_default_graph()\n",
    "\n",
    "# Inputs\n",
    "x = neural_net_image_input((32, 32, 3))\n",
    "y = neural_net_label_input(10)\n",
    "keep_prob = neural_net_keep_prob_input()\n",
    "\n",
    "# Model\n",
    "logits = conv_net(x, keep_prob)\n",
    "\n",
    "# Name logits Tensor, so that is can be loaded from disk after training\n",
    "logits = tf.identity(logits, name='logits')\n",
    "\n",
    "# Loss and Optimizer\n",
    "cost = tf.reduce_mean(tf.nn.softmax_cross_entropy_with_logits(logits=logits, labels=y))\n",
    "optimizer = tf.train.AdamOptimizer().minimize(cost)\n",
    "\n",
    "# Accuracy\n",
    "correct_pred = tf.equal(tf.argmax(logits, 1), tf.argmax(y, 1))\n",
    "accuracy = tf.reduce_mean(tf.cast(correct_pred, tf.float32), name='accuracy')\n",
    "\n",
    "tests.test_conv_net(conv_net)"
   ]
  },
  {
   "cell_type": "markdown",
   "metadata": {},
   "source": [
    "## Train the Neural Network\n",
    "### Single Optimization\n",
    "Implement the function `train_neural_network` to do a single optimization.  The optimization should use `optimizer` to optimize in `session` with a `feed_dict` of the following:\n",
    "* `x` for image input\n",
    "* `y` for labels\n",
    "* `keep_prob` for keep probability for dropout\n",
    "\n",
    "This function will be called for each batch, so `tf.global_variables_initializer()` has already been called.\n",
    "\n",
    "Note: Nothing needs to be returned. This function is only optimizing the neural network."
   ]
  },
  {
   "cell_type": "code",
   "execution_count": 57,
   "metadata": {},
   "outputs": [
    {
     "name": "stdout",
     "output_type": "stream",
     "text": [
      "Tests Passed\n"
     ]
    }
   ],
   "source": [
    "def train_neural_network(session, optimizer, keep_probability, feature_batch, label_batch):\n",
    "    \"\"\"\n",
    "    Optimize the session on a batch of images and labels\n",
    "    : session: Current TensorFlow session\n",
    "    : optimizer: TensorFlow optimizer function\n",
    "    : keep_probability: keep probability\n",
    "    : feature_batch: Batch of Numpy image data\n",
    "    : label_batch: Batch of Numpy label data\n",
    "    \"\"\"\n",
    "    # TODO: Implement Function\n",
    "    session.run(optimizer, feed_dict = {x: feature_batch, y: label_batch, keep_prob: keep_probability})\n",
    "\n",
    "\n",
    "\"\"\"\n",
    "DON'T MODIFY ANYTHING IN THIS CELL THAT IS BELOW THIS LINE\n",
    "\"\"\"\n",
    "tests.test_train_nn(train_neural_network)"
   ]
  },
  {
   "cell_type": "markdown",
   "metadata": {},
   "source": [
    "### Show Stats\n",
    "Implement the function `print_stats` to print loss and validation accuracy.  Use the global variables `valid_features` and `valid_labels` to calculate validation accuracy.  Use a keep probability of `1.0` to calculate the loss and validation accuracy."
   ]
  },
  {
   "cell_type": "code",
   "execution_count": 62,
   "metadata": {},
   "outputs": [],
   "source": [
    "def print_stats(session, feature_batch, label_batch, cost, accuracy):\n",
    "    \"\"\"\n",
    "    Print information about loss and validation accuracy\n",
    "    : session: Current TensorFlow session\n",
    "    : feature_batch: Batch of Numpy image data\n",
    "    : label_batch: Batch of Numpy label data\n",
    "    : cost: TensorFlow cost function\n",
    "    : accuracy: TensorFlow accuracy function\n",
    "    \"\"\"\n",
    "    # TODO: Implement Function\n",
    "    loss = session.run(cost, feed_dict = {x: feature_batch, y: label_batch, keep_prob: 1.0})\n",
    "    valid_accuracy = session.run(accuracy, feed_dict = {x: valid_features, y: valid_labels, keep_prob: 1.0})\n",
    "    \n",
    "    print(' Loss : {} ' .format(loss))\n",
    "    print(' Validation Accuracy : {} ' .format(valid_accuracy))"
   ]
  },
  {
   "cell_type": "markdown",
   "metadata": {},
   "source": [
    "### Hyperparameters\n",
    "Tune the following parameters:\n",
    "* Set `epochs` to the number of iterations until the network stops learning or start overfitting\n",
    "* Set `batch_size` to the highest number that your machine has memory for.  Most people set them to common sizes of memory:\n",
    " * 64\n",
    " * 128\n",
    " * 256\n",
    " * ...\n",
    "* Set `keep_probability` to the probability of keeping a node using dropout"
   ]
  },
  {
   "cell_type": "code",
   "execution_count": 64,
   "metadata": {
    "collapsed": true
   },
   "outputs": [],
   "source": [
    "# TODO: Tune Parameters\n",
    "epochs = 30\n",
    "batch_size = 128\n",
    "keep_probability = 0.8"
   ]
  },
  {
   "cell_type": "markdown",
   "metadata": {},
   "source": [
    "### Train on a Single CIFAR-10 Batch\n",
    "Instead of training the neural network on all the CIFAR-10 batches of data, let's use a single batch. This should save time while you iterate on the model to get a better accuracy.  Once the final validation accuracy is 50% or greater, run the model on all the data in the next section."
   ]
  },
  {
   "cell_type": "code",
   "execution_count": 65,
   "metadata": {},
   "outputs": [
    {
     "name": "stdout",
     "output_type": "stream",
     "text": [
      "Checking the Training on a Single Batch...\n",
      "Epoch  1, CIFAR-10 Batch 1:   Loss : 2.1613826751708984 \n",
      " Validation Accuracy : 0.24959999322891235 \n",
      "Epoch  2, CIFAR-10 Batch 1:   Loss : 2.115671396255493 \n",
      " Validation Accuracy : 0.31380000710487366 \n",
      "Epoch  3, CIFAR-10 Batch 1:   Loss : 1.9672447443008423 \n",
      " Validation Accuracy : 0.36000001430511475 \n",
      "Epoch  4, CIFAR-10 Batch 1:   Loss : 1.9215888977050781 \n",
      " Validation Accuracy : 0.38359999656677246 \n",
      "Epoch  5, CIFAR-10 Batch 1:   Loss : 1.8318796157836914 \n",
      " Validation Accuracy : 0.38679999113082886 \n",
      "Epoch  6, CIFAR-10 Batch 1:   Loss : 1.7326921224594116 \n",
      " Validation Accuracy : 0.4065999984741211 \n",
      "Epoch  7, CIFAR-10 Batch 1:   Loss : 1.614936113357544 \n",
      " Validation Accuracy : 0.4142000079154968 \n",
      "Epoch  8, CIFAR-10 Batch 1:   Loss : 1.4697009325027466 \n",
      " Validation Accuracy : 0.4392000138759613 \n",
      "Epoch  9, CIFAR-10 Batch 1:   Loss : 1.4021152257919312 \n",
      " Validation Accuracy : 0.45100000500679016 \n",
      "Epoch 10, CIFAR-10 Batch 1:   Loss : 1.2492268085479736 \n",
      " Validation Accuracy : 0.4758000075817108 \n",
      "Epoch 11, CIFAR-10 Batch 1:   Loss : 1.1953659057617188 \n",
      " Validation Accuracy : 0.4796000123023987 \n",
      "Epoch 12, CIFAR-10 Batch 1:   Loss : 1.0308644771575928 \n",
      " Validation Accuracy : 0.5135999917984009 \n",
      "Epoch 13, CIFAR-10 Batch 1:   Loss : 0.9800134897232056 \n",
      " Validation Accuracy : 0.5210000276565552 \n",
      "Epoch 14, CIFAR-10 Batch 1:   Loss : 0.843894362449646 \n",
      " Validation Accuracy : 0.5293999910354614 \n",
      "Epoch 15, CIFAR-10 Batch 1:   Loss : 0.7844985127449036 \n",
      " Validation Accuracy : 0.5307999849319458 \n",
      "Epoch 16, CIFAR-10 Batch 1:   Loss : 0.7415503859519958 \n",
      " Validation Accuracy : 0.5288000106811523 \n",
      "Epoch 17, CIFAR-10 Batch 1:   Loss : 0.7093139886856079 \n",
      " Validation Accuracy : 0.5266000032424927 \n",
      "Epoch 18, CIFAR-10 Batch 1:   Loss : 0.5950130224227905 \n",
      " Validation Accuracy : 0.5454000234603882 \n",
      "Epoch 19, CIFAR-10 Batch 1:   Loss : 0.5758943557739258 \n",
      " Validation Accuracy : 0.5418000221252441 \n",
      "Epoch 20, CIFAR-10 Batch 1:   Loss : 0.5401255488395691 \n",
      " Validation Accuracy : 0.5468000173568726 \n",
      "Epoch 21, CIFAR-10 Batch 1:   Loss : 0.4685498774051666 \n",
      " Validation Accuracy : 0.5564000010490417 \n",
      "Epoch 22, CIFAR-10 Batch 1:   Loss : 0.5044137835502625 \n",
      " Validation Accuracy : 0.521399974822998 \n",
      "Epoch 23, CIFAR-10 Batch 1:   Loss : 0.5090219974517822 \n",
      " Validation Accuracy : 0.5347999930381775 \n",
      "Epoch 24, CIFAR-10 Batch 1:   Loss : 0.4357181489467621 \n",
      " Validation Accuracy : 0.5461999773979187 \n",
      "Epoch 25, CIFAR-10 Batch 1:   Loss : 0.43442878127098083 \n",
      " Validation Accuracy : 0.5437999963760376 \n",
      "Epoch 26, CIFAR-10 Batch 1:   Loss : 0.33013564348220825 \n",
      " Validation Accuracy : 0.545199990272522 \n",
      "Epoch 27, CIFAR-10 Batch 1:   Loss : 0.3461911082267761 \n",
      " Validation Accuracy : 0.5389999747276306 \n",
      "Epoch 28, CIFAR-10 Batch 1:   Loss : 0.316291481256485 \n",
      " Validation Accuracy : 0.5450000166893005 \n",
      "Epoch 29, CIFAR-10 Batch 1:   Loss : 0.30129826068878174 \n",
      " Validation Accuracy : 0.5365999937057495 \n",
      "Epoch 30, CIFAR-10 Batch 1:   Loss : 0.3202803134918213 \n",
      " Validation Accuracy : 0.5493999719619751 \n"
     ]
    }
   ],
   "source": [
    "\"\"\"\n",
    "DON'T MODIFY ANYTHING IN THIS CELL\n",
    "\"\"\"\n",
    "print('Checking the Training on a Single Batch...')\n",
    "with tf.Session() as sess:\n",
    "    # Initializing the variables\n",
    "    sess.run(tf.global_variables_initializer())\n",
    "    \n",
    "    # Training cycle\n",
    "    for epoch in range(epochs):\n",
    "        batch_i = 1\n",
    "        for batch_features, batch_labels in helper.load_preprocess_training_batch(batch_i, batch_size):\n",
    "            train_neural_network(sess, optimizer, keep_probability, batch_features, batch_labels)\n",
    "        print('Epoch {:>2}, CIFAR-10 Batch {}:  '.format(epoch + 1, batch_i), end='')\n",
    "        print_stats(sess, batch_features, batch_labels, cost, accuracy)"
   ]
  },
  {
   "cell_type": "markdown",
   "metadata": {},
   "source": [
    "### Fully Train the Model\n",
    "Now that you got a good accuracy with a single CIFAR-10 batch, try it with all five batches."
   ]
  },
  {
   "cell_type": "code",
   "execution_count": 66,
   "metadata": {},
   "outputs": [
    {
     "name": "stdout",
     "output_type": "stream",
     "text": [
      "Training...\n",
      "Epoch  1, CIFAR-10 Batch 1:   Loss : 2.1596007347106934 \n",
      " Validation Accuracy : 0.21060000360012054 \n",
      "Epoch  1, CIFAR-10 Batch 2:   Loss : 1.9048904180526733 \n",
      " Validation Accuracy : 0.3192000091075897 \n",
      "Epoch  1, CIFAR-10 Batch 3:   Loss : 1.626186728477478 \n",
      " Validation Accuracy : 0.3668000102043152 \n",
      "Epoch  1, CIFAR-10 Batch 4:   Loss : 1.6408315896987915 \n",
      " Validation Accuracy : 0.39719998836517334 \n",
      "Epoch  1, CIFAR-10 Batch 5:   Loss : 1.543958306312561 \n",
      " Validation Accuracy : 0.4090000092983246 \n",
      "Epoch  2, CIFAR-10 Batch 1:   Loss : 1.772907018661499 \n",
      " Validation Accuracy : 0.4246000051498413 \n",
      "Epoch  2, CIFAR-10 Batch 2:   Loss : 1.6059131622314453 \n",
      " Validation Accuracy : 0.4537999927997589 \n",
      "Epoch  2, CIFAR-10 Batch 3:   Loss : 1.3098396062850952 \n",
      " Validation Accuracy : 0.43720000982284546 \n",
      "Epoch  2, CIFAR-10 Batch 4:   Loss : 1.4385404586791992 \n",
      " Validation Accuracy : 0.4747999906539917 \n",
      "Epoch  2, CIFAR-10 Batch 5:   Loss : 1.37602698802948 \n",
      " Validation Accuracy : 0.4796000123023987 \n",
      "Epoch  3, CIFAR-10 Batch 1:   Loss : 1.558704137802124 \n",
      " Validation Accuracy : 0.5037999749183655 \n",
      "Epoch  3, CIFAR-10 Batch 2:   Loss : 1.3471788167953491 \n",
      " Validation Accuracy : 0.5166000127792358 \n",
      "Epoch  3, CIFAR-10 Batch 3:   Loss : 1.0880448818206787 \n",
      " Validation Accuracy : 0.52920001745224 \n",
      "Epoch  3, CIFAR-10 Batch 4:   Loss : 1.281217098236084 \n",
      " Validation Accuracy : 0.5206000208854675 \n",
      "Epoch  3, CIFAR-10 Batch 5:   Loss : 1.223043441772461 \n",
      " Validation Accuracy : 0.527400016784668 \n",
      "Epoch  4, CIFAR-10 Batch 1:   Loss : 1.3440632820129395 \n",
      " Validation Accuracy : 0.5424000024795532 \n",
      "Epoch  4, CIFAR-10 Batch 2:   Loss : 1.1268705129623413 \n",
      " Validation Accuracy : 0.5228000283241272 \n",
      "Epoch  4, CIFAR-10 Batch 3:   Loss : 0.9965965151786804 \n",
      " Validation Accuracy : 0.5523999929428101 \n",
      "Epoch  4, CIFAR-10 Batch 4:   Loss : 1.2024712562561035 \n",
      " Validation Accuracy : 0.5705999732017517 \n",
      "Epoch  4, CIFAR-10 Batch 5:   Loss : 1.068787693977356 \n",
      " Validation Accuracy : 0.5735999941825867 \n",
      "Epoch  5, CIFAR-10 Batch 1:   Loss : 1.1985620260238647 \n",
      " Validation Accuracy : 0.5785999894142151 \n",
      "Epoch  5, CIFAR-10 Batch 2:   Loss : 1.001720905303955 \n",
      " Validation Accuracy : 0.5803999900817871 \n",
      "Epoch  5, CIFAR-10 Batch 3:   Loss : 0.8677833676338196 \n",
      " Validation Accuracy : 0.5848000049591064 \n",
      "Epoch  5, CIFAR-10 Batch 4:   Loss : 1.1002506017684937 \n",
      " Validation Accuracy : 0.5794000029563904 \n",
      "Epoch  5, CIFAR-10 Batch 5:   Loss : 0.9655154943466187 \n",
      " Validation Accuracy : 0.59579998254776 \n",
      "Epoch  6, CIFAR-10 Batch 1:   Loss : 1.0674978494644165 \n",
      " Validation Accuracy : 0.6057999730110168 \n",
      "Epoch  6, CIFAR-10 Batch 2:   Loss : 0.9239028692245483 \n",
      " Validation Accuracy : 0.5914000272750854 \n",
      "Epoch  6, CIFAR-10 Batch 3:   Loss : 0.8106040954589844 \n",
      " Validation Accuracy : 0.600600004196167 \n",
      "Epoch  6, CIFAR-10 Batch 4:   Loss : 0.9992243051528931 \n",
      " Validation Accuracy : 0.6018000245094299 \n",
      "Epoch  6, CIFAR-10 Batch 5:   Loss : 0.9001911878585815 \n",
      " Validation Accuracy : 0.616599977016449 \n",
      "Epoch  7, CIFAR-10 Batch 1:   Loss : 0.9767659306526184 \n",
      " Validation Accuracy : 0.6136000156402588 \n",
      "Epoch  7, CIFAR-10 Batch 2:   Loss : 0.8413203954696655 \n",
      " Validation Accuracy : 0.6164000034332275 \n",
      "Epoch  7, CIFAR-10 Batch 3:   Loss : 0.7581170797348022 \n",
      " Validation Accuracy : 0.6133999824523926 \n",
      "Epoch  7, CIFAR-10 Batch 4:   Loss : 0.9905490875244141 \n",
      " Validation Accuracy : 0.6129999756813049 \n",
      "Epoch  7, CIFAR-10 Batch 5:   Loss : 0.7973763942718506 \n",
      " Validation Accuracy : 0.6340000033378601 \n",
      "Epoch  8, CIFAR-10 Batch 1:   Loss : 0.8731502294540405 \n",
      " Validation Accuracy : 0.6248000264167786 \n",
      "Epoch  8, CIFAR-10 Batch 2:   Loss : 0.6989936828613281 \n",
      " Validation Accuracy : 0.6204000115394592 \n",
      "Epoch  8, CIFAR-10 Batch 3:   Loss : 0.6695940494537354 \n",
      " Validation Accuracy : 0.6330000162124634 \n",
      "Epoch  8, CIFAR-10 Batch 4:   Loss : 0.8816022872924805 \n",
      " Validation Accuracy : 0.6345999836921692 \n",
      "Epoch  8, CIFAR-10 Batch 5:   Loss : 0.7133124470710754 \n",
      " Validation Accuracy : 0.6403999924659729 \n",
      "Epoch  9, CIFAR-10 Batch 1:   Loss : 0.7459217309951782 \n",
      " Validation Accuracy : 0.6376000046730042 \n",
      "Epoch  9, CIFAR-10 Batch 2:   Loss : 0.6908662915229797 \n",
      " Validation Accuracy : 0.6420000195503235 \n",
      "Epoch  9, CIFAR-10 Batch 3:   Loss : 0.6233009099960327 \n",
      " Validation Accuracy : 0.6371999979019165 \n",
      "Epoch  9, CIFAR-10 Batch 4:   Loss : 0.7461656332015991 \n",
      " Validation Accuracy : 0.6398000121116638 \n",
      "Epoch  9, CIFAR-10 Batch 5:   Loss : 0.6572418212890625 \n",
      " Validation Accuracy : 0.649399995803833 \n",
      "Epoch 10, CIFAR-10 Batch 1:   Loss : 0.6360254287719727 \n",
      " Validation Accuracy : 0.6485999822616577 \n",
      "Epoch 10, CIFAR-10 Batch 2:   Loss : 0.6468040943145752 \n",
      " Validation Accuracy : 0.6287999749183655 \n",
      "Epoch 10, CIFAR-10 Batch 3:   Loss : 0.5931113958358765 \n",
      " Validation Accuracy : 0.6412000060081482 \n",
      "Epoch 10, CIFAR-10 Batch 4:   Loss : 0.6866615414619446 \n",
      " Validation Accuracy : 0.6381999850273132 \n",
      "Epoch 10, CIFAR-10 Batch 5:   Loss : 0.5952857732772827 \n",
      " Validation Accuracy : 0.6377999782562256 \n",
      "Epoch 11, CIFAR-10 Batch 1:   Loss : 0.597509503364563 \n",
      " Validation Accuracy : 0.6413999795913696 \n",
      "Epoch 11, CIFAR-10 Batch 2:   Loss : 0.5764943361282349 \n",
      " Validation Accuracy : 0.6370000243186951 \n",
      "Epoch 11, CIFAR-10 Batch 3:   Loss : 0.5440574884414673 \n",
      " Validation Accuracy : 0.6466000080108643 \n",
      "Epoch 11, CIFAR-10 Batch 4:   Loss : 0.5810431241989136 \n",
      " Validation Accuracy : 0.6389999985694885 \n",
      "Epoch 11, CIFAR-10 Batch 5:   Loss : 0.5188345909118652 \n",
      " Validation Accuracy : 0.6601999998092651 \n",
      "Epoch 12, CIFAR-10 Batch 1:   Loss : 0.541750431060791 \n",
      " Validation Accuracy : 0.6570000052452087 \n",
      "Epoch 12, CIFAR-10 Batch 2:   Loss : 0.5597530603408813 \n",
      " Validation Accuracy : 0.6377999782562256 \n",
      "Epoch 12, CIFAR-10 Batch 3:   Loss : 0.47549358010292053 \n",
      " Validation Accuracy : 0.6534000039100647 \n",
      "Epoch 12, CIFAR-10 Batch 4:   Loss : 0.5287909507751465 \n",
      " Validation Accuracy : 0.6565999984741211 \n",
      "Epoch 12, CIFAR-10 Batch 5:   Loss : 0.4729062616825104 \n",
      " Validation Accuracy : 0.6636000275611877 \n",
      "Epoch 13, CIFAR-10 Batch 1:   Loss : 0.46821698546409607 \n",
      " Validation Accuracy : 0.6607999801635742 \n",
      "Epoch 13, CIFAR-10 Batch 2:   Loss : 0.5010747909545898 \n",
      " Validation Accuracy : 0.6492000222206116 \n",
      "Epoch 13, CIFAR-10 Batch 3:   Loss : 0.4177054762840271 \n",
      " Validation Accuracy : 0.6711999773979187 \n",
      "Epoch 13, CIFAR-10 Batch 4:   Loss : 0.47009068727493286 \n",
      " Validation Accuracy : 0.6575999855995178 \n",
      "Epoch 13, CIFAR-10 Batch 5:   Loss : 0.43309879302978516 \n",
      " Validation Accuracy : 0.6687999963760376 \n",
      "Epoch 14, CIFAR-10 Batch 1:   Loss : 0.4756123423576355 \n",
      " Validation Accuracy : 0.6692000031471252 \n",
      "Epoch 14, CIFAR-10 Batch 2:   Loss : 0.4595036506652832 \n",
      " Validation Accuracy : 0.6597999930381775 \n",
      "Epoch 14, CIFAR-10 Batch 3:   Loss : 0.3930908143520355 \n",
      " Validation Accuracy : 0.6620000004768372 \n",
      "Epoch 14, CIFAR-10 Batch 4:   Loss : 0.4249402582645416 \n",
      " Validation Accuracy : 0.6690000295639038 \n",
      "Epoch 14, CIFAR-10 Batch 5:   Loss : 0.39018362760543823 \n",
      " Validation Accuracy : 0.6636000275611877 \n",
      "Epoch 15, CIFAR-10 Batch 1:   Loss : 0.4413653016090393 \n",
      " Validation Accuracy : 0.6705999970436096 \n",
      "Epoch 15, CIFAR-10 Batch 2:   Loss : 0.4245365262031555 \n",
      " Validation Accuracy : 0.6601999998092651 \n",
      "Epoch 15, CIFAR-10 Batch 3:   Loss : 0.33231520652770996 \n",
      " Validation Accuracy : 0.6697999835014343 \n",
      "Epoch 15, CIFAR-10 Batch 4:   Loss : 0.49282678961753845 \n",
      " Validation Accuracy : 0.6585999727249146 \n",
      "Epoch 15, CIFAR-10 Batch 5:   Loss : 0.34166809916496277 \n",
      " Validation Accuracy : 0.671999990940094 \n",
      "Epoch 16, CIFAR-10 Batch 1:   Loss : 0.35148364305496216 \n",
      " Validation Accuracy : 0.66839998960495 \n",
      "Epoch 16, CIFAR-10 Batch 2:   Loss : 0.39878779649734497 \n",
      " Validation Accuracy : 0.6561999917030334 \n",
      "Epoch 16, CIFAR-10 Batch 3:   Loss : 0.32873886823654175 \n",
      " Validation Accuracy : 0.6747999787330627 \n",
      "Epoch 16, CIFAR-10 Batch 4:   Loss : 0.4497438073158264 \n",
      " Validation Accuracy : 0.6394000053405762 \n",
      "Epoch 16, CIFAR-10 Batch 5:   Loss : 0.38303694128990173 \n",
      " Validation Accuracy : 0.6621999740600586 \n",
      "Epoch 17, CIFAR-10 Batch 1:   Loss : 0.3878578543663025 \n",
      " Validation Accuracy : 0.6705999970436096 \n",
      "Epoch 17, CIFAR-10 Batch 2:   Loss : 0.3970097601413727 \n",
      " Validation Accuracy : 0.6561999917030334 \n"
     ]
    },
    {
     "name": "stdout",
     "output_type": "stream",
     "text": [
      "Epoch 17, CIFAR-10 Batch 3:   Loss : 0.35681402683258057 \n",
      " Validation Accuracy : 0.6743999719619751 \n",
      "Epoch 17, CIFAR-10 Batch 4:   Loss : 0.41583195328712463 \n",
      " Validation Accuracy : 0.6646000146865845 \n",
      "Epoch 17, CIFAR-10 Batch 5:   Loss : 0.30611997842788696 \n",
      " Validation Accuracy : 0.6539999842643738 \n",
      "Epoch 18, CIFAR-10 Batch 1:   Loss : 0.3296014070510864 \n",
      " Validation Accuracy : 0.6776000261306763 \n",
      "Epoch 18, CIFAR-10 Batch 2:   Loss : 0.35579735040664673 \n",
      " Validation Accuracy : 0.6601999998092651 \n",
      "Epoch 18, CIFAR-10 Batch 3:   Loss : 0.2997961938381195 \n",
      " Validation Accuracy : 0.6621999740600586 \n",
      "Epoch 18, CIFAR-10 Batch 4:   Loss : 0.3929644823074341 \n",
      " Validation Accuracy : 0.6603999733924866 \n",
      "Epoch 18, CIFAR-10 Batch 5:   Loss : 0.27755206823349 \n",
      " Validation Accuracy : 0.6687999963760376 \n",
      "Epoch 19, CIFAR-10 Batch 1:   Loss : 0.2880447804927826 \n",
      " Validation Accuracy : 0.6833999752998352 \n",
      "Epoch 19, CIFAR-10 Batch 2:   Loss : 0.3443247377872467 \n",
      " Validation Accuracy : 0.6687999963760376 \n",
      "Epoch 19, CIFAR-10 Batch 3:   Loss : 0.2908170521259308 \n",
      " Validation Accuracy : 0.6754000186920166 \n",
      "Epoch 19, CIFAR-10 Batch 4:   Loss : 0.35817426443099976 \n",
      " Validation Accuracy : 0.6588000059127808 \n",
      "Epoch 19, CIFAR-10 Batch 5:   Loss : 0.26855236291885376 \n",
      " Validation Accuracy : 0.6664000153541565 \n",
      "Epoch 20, CIFAR-10 Batch 1:   Loss : 0.3110892176628113 \n",
      " Validation Accuracy : 0.6732000112533569 \n",
      "Epoch 20, CIFAR-10 Batch 2:   Loss : 0.3526187837123871 \n",
      " Validation Accuracy : 0.6603999733924866 \n",
      "Epoch 20, CIFAR-10 Batch 3:   Loss : 0.26393380761146545 \n",
      " Validation Accuracy : 0.6633999943733215 \n",
      "Epoch 20, CIFAR-10 Batch 4:   Loss : 0.30459481477737427 \n",
      " Validation Accuracy : 0.6621999740600586 \n",
      "Epoch 20, CIFAR-10 Batch 5:   Loss : 0.2577568292617798 \n",
      " Validation Accuracy : 0.6629999876022339 \n",
      "Epoch 21, CIFAR-10 Batch 1:   Loss : 0.284647136926651 \n",
      " Validation Accuracy : 0.6765999794006348 \n",
      "Epoch 21, CIFAR-10 Batch 2:   Loss : 0.2998981475830078 \n",
      " Validation Accuracy : 0.6651999950408936 \n",
      "Epoch 21, CIFAR-10 Batch 3:   Loss : 0.2500301003456116 \n",
      " Validation Accuracy : 0.6669999957084656 \n",
      "Epoch 21, CIFAR-10 Batch 4:   Loss : 0.28724855184555054 \n",
      " Validation Accuracy : 0.6642000079154968 \n",
      "Epoch 21, CIFAR-10 Batch 5:   Loss : 0.22482600808143616 \n",
      " Validation Accuracy : 0.6773999929428101 \n",
      "Epoch 22, CIFAR-10 Batch 1:   Loss : 0.2305106371641159 \n",
      " Validation Accuracy : 0.6746000051498413 \n",
      "Epoch 22, CIFAR-10 Batch 2:   Loss : 0.32907456159591675 \n",
      " Validation Accuracy : 0.6636000275611877 \n",
      "Epoch 22, CIFAR-10 Batch 3:   Loss : 0.24582353234291077 \n",
      " Validation Accuracy : 0.6678000092506409 \n",
      "Epoch 22, CIFAR-10 Batch 4:   Loss : 0.25187283754348755 \n",
      " Validation Accuracy : 0.6692000031471252 \n",
      "Epoch 22, CIFAR-10 Batch 5:   Loss : 0.23719747364521027 \n",
      " Validation Accuracy : 0.6610000133514404 \n",
      "Epoch 23, CIFAR-10 Batch 1:   Loss : 0.2559163570404053 \n",
      " Validation Accuracy : 0.676800012588501 \n",
      "Epoch 23, CIFAR-10 Batch 2:   Loss : 0.3019610345363617 \n",
      " Validation Accuracy : 0.6496000289916992 \n",
      "Epoch 23, CIFAR-10 Batch 3:   Loss : 0.23637166619300842 \n",
      " Validation Accuracy : 0.6678000092506409 \n",
      "Epoch 23, CIFAR-10 Batch 4:   Loss : 0.2314295470714569 \n",
      " Validation Accuracy : 0.6620000004768372 \n",
      "Epoch 23, CIFAR-10 Batch 5:   Loss : 0.19850820302963257 \n",
      " Validation Accuracy : 0.6601999998092651 \n",
      "Epoch 24, CIFAR-10 Batch 1:   Loss : 0.26489731669425964 \n",
      " Validation Accuracy : 0.6723999977111816 \n",
      "Epoch 24, CIFAR-10 Batch 2:   Loss : 0.2681286334991455 \n",
      " Validation Accuracy : 0.6675999760627747 \n",
      "Epoch 24, CIFAR-10 Batch 3:   Loss : 0.21341542899608612 \n",
      " Validation Accuracy : 0.6736000180244446 \n",
      "Epoch 24, CIFAR-10 Batch 4:   Loss : 0.22646772861480713 \n",
      " Validation Accuracy : 0.6507999897003174 \n",
      "Epoch 24, CIFAR-10 Batch 5:   Loss : 0.1714164763689041 \n",
      " Validation Accuracy : 0.6564000248908997 \n",
      "Epoch 25, CIFAR-10 Batch 1:   Loss : 0.22570089995861053 \n",
      " Validation Accuracy : 0.6710000038146973 \n",
      "Epoch 25, CIFAR-10 Batch 2:   Loss : 0.2678498327732086 \n",
      " Validation Accuracy : 0.6661999821662903 \n",
      "Epoch 25, CIFAR-10 Batch 3:   Loss : 0.2591668963432312 \n",
      " Validation Accuracy : 0.6636000275611877 \n",
      "Epoch 25, CIFAR-10 Batch 4:   Loss : 0.220794677734375 \n",
      " Validation Accuracy : 0.6628000140190125 \n",
      "Epoch 25, CIFAR-10 Batch 5:   Loss : 0.1690436750650406 \n",
      " Validation Accuracy : 0.6669999957084656 \n",
      "Epoch 26, CIFAR-10 Batch 1:   Loss : 0.18786509335041046 \n",
      " Validation Accuracy : 0.6624000072479248 \n",
      "Epoch 26, CIFAR-10 Batch 2:   Loss : 0.24876649677753448 \n",
      " Validation Accuracy : 0.6678000092506409 \n",
      "Epoch 26, CIFAR-10 Batch 3:   Loss : 0.2338690459728241 \n",
      " Validation Accuracy : 0.6620000004768372 \n",
      "Epoch 26, CIFAR-10 Batch 4:   Loss : 0.2236865758895874 \n",
      " Validation Accuracy : 0.6665999889373779 \n",
      "Epoch 26, CIFAR-10 Batch 5:   Loss : 0.1606130599975586 \n",
      " Validation Accuracy : 0.6728000044822693 \n",
      "Epoch 27, CIFAR-10 Batch 1:   Loss : 0.2276146411895752 \n",
      " Validation Accuracy : 0.6665999889373779 \n",
      "Epoch 27, CIFAR-10 Batch 2:   Loss : 0.24527080357074738 \n",
      " Validation Accuracy : 0.6618000268936157 \n",
      "Epoch 27, CIFAR-10 Batch 3:   Loss : 0.19288447499275208 \n",
      " Validation Accuracy : 0.6740000247955322 \n",
      "Epoch 27, CIFAR-10 Batch 4:   Loss : 0.21032968163490295 \n",
      " Validation Accuracy : 0.6606000065803528 \n",
      "Epoch 27, CIFAR-10 Batch 5:   Loss : 0.16143210232257843 \n",
      " Validation Accuracy : 0.6618000268936157 \n",
      "Epoch 28, CIFAR-10 Batch 1:   Loss : 0.19572892785072327 \n",
      " Validation Accuracy : 0.675000011920929 \n",
      "Epoch 28, CIFAR-10 Batch 2:   Loss : 0.21925139427185059 \n",
      " Validation Accuracy : 0.6761999726295471 \n",
      "Epoch 28, CIFAR-10 Batch 3:   Loss : 0.21953272819519043 \n",
      " Validation Accuracy : 0.6693999767303467 \n",
      "Epoch 28, CIFAR-10 Batch 4:   Loss : 0.2057599574327469 \n",
      " Validation Accuracy : 0.6674000024795532 \n",
      "Epoch 28, CIFAR-10 Batch 5:   Loss : 0.15533462166786194 \n",
      " Validation Accuracy : 0.6693999767303467 \n",
      "Epoch 29, CIFAR-10 Batch 1:   Loss : 0.17842456698417664 \n",
      " Validation Accuracy : 0.6679999828338623 \n",
      "Epoch 29, CIFAR-10 Batch 2:   Loss : 0.23762965202331543 \n",
      " Validation Accuracy : 0.6776000261306763 \n",
      "Epoch 29, CIFAR-10 Batch 3:   Loss : 0.18374721705913544 \n",
      " Validation Accuracy : 0.6601999998092651 \n",
      "Epoch 29, CIFAR-10 Batch 4:   Loss : 0.18850596249103546 \n",
      " Validation Accuracy : 0.651199996471405 \n",
      "Epoch 29, CIFAR-10 Batch 5:   Loss : 0.1813587248325348 \n",
      " Validation Accuracy : 0.6642000079154968 \n",
      "Epoch 30, CIFAR-10 Batch 1:   Loss : 0.19719095528125763 \n",
      " Validation Accuracy : 0.6692000031471252 \n",
      "Epoch 30, CIFAR-10 Batch 2:   Loss : 0.21282950043678284 \n",
      " Validation Accuracy : 0.680400013923645 \n",
      "Epoch 30, CIFAR-10 Batch 3:   Loss : 0.19255897402763367 \n",
      " Validation Accuracy : 0.6715999841690063 \n",
      "Epoch 30, CIFAR-10 Batch 4:   Loss : 0.21183042228221893 \n",
      " Validation Accuracy : 0.6665999889373779 \n",
      "Epoch 30, CIFAR-10 Batch 5:   Loss : 0.15690161287784576 \n",
      " Validation Accuracy : 0.6732000112533569 \n"
     ]
    }
   ],
   "source": [
    "\"\"\"\n",
    "DON'T MODIFY ANYTHING IN THIS CELL\n",
    "\"\"\"\n",
    "save_model_path = './image_classification'\n",
    "\n",
    "print('Training...')\n",
    "with tf.Session() as sess:\n",
    "    # Initializing the variables\n",
    "    sess.run(tf.global_variables_initializer())\n",
    "    \n",
    "    # Training cycle\n",
    "    for epoch in range(epochs):\n",
    "        # Loop over all batches\n",
    "        n_batches = 5\n",
    "        for batch_i in range(1, n_batches + 1):\n",
    "            for batch_features, batch_labels in helper.load_preprocess_training_batch(batch_i, batch_size):\n",
    "                train_neural_network(sess, optimizer, keep_probability, batch_features, batch_labels)\n",
    "            print('Epoch {:>2}, CIFAR-10 Batch {}:  '.format(epoch + 1, batch_i), end='')\n",
    "            print_stats(sess, batch_features, batch_labels, cost, accuracy)\n",
    "            \n",
    "    # Save Model\n",
    "    saver = tf.train.Saver()\n",
    "    save_path = saver.save(sess, save_model_path)"
   ]
  },
  {
   "cell_type": "markdown",
   "metadata": {},
   "source": [
    "# Checkpoint\n",
    "The model has been saved to disk.\n",
    "## Test Model\n",
    "Test your model against the test dataset.  This will be your final accuracy. You should have an accuracy greater than 50%. If you don't, keep tweaking the model architecture and parameters."
   ]
  },
  {
   "cell_type": "code",
   "execution_count": 67,
   "metadata": {},
   "outputs": [
    {
     "name": "stdout",
     "output_type": "stream",
     "text": [
      "INFO:tensorflow:Restoring parameters from ./image_classification\n",
      "Testing Accuracy: 0.6536787974683544\n",
      "\n"
     ]
    },
    {
     "data": {
      "image/png": "[encoded data removed]",
      "text/plain": [
       "<matplotlib.figure.Figure at 0x10ac345f8>"
      ]
     },
     "metadata": {
      "image/png": {
       "height": 319,
       "width": 355
      }
     },
     "output_type": "display_data"
    }
   ],
   "source": [
    "\"\"\"\n",
    "DON'T MODIFY ANYTHING IN THIS CELL\n",
    "\"\"\"\n",
    "%matplotlib inline\n",
    "%config InlineBackend.figure_format = 'retina'\n",
    "\n",
    "import tensorflow as tf\n",
    "import pickle\n",
    "import helper\n",
    "import random\n",
    "\n",
    "# Set batch size if not already set\n",
    "try:\n",
    "    if batch_size:\n",
    "        pass\n",
    "except NameError:\n",
    "    batch_size = 64\n",
    "\n",
    "save_model_path = './image_classification'\n",
    "n_samples = 4\n",
    "top_n_predictions = 3\n",
    "\n",
    "def test_model():\n",
    "    \"\"\"\n",
    "    Test the saved model against the test dataset\n",
    "    \"\"\"\n",
    "\n",
    "    test_features, test_labels = pickle.load(open('preprocess_test.p', mode='rb'))\n",
    "    loaded_graph = tf.Graph()\n",
    "\n",
    "    with tf.Session(graph=loaded_graph) as sess:\n",
    "        # Load model\n",
    "        loader = tf.train.import_meta_graph(save_model_path + '.meta')\n",
    "        loader.restore(sess, save_model_path)\n",
    "\n",
    "        # Get Tensors from loaded model\n",
    "        loaded_x = loaded_graph.get_tensor_by_name('x:0')\n",
    "        loaded_y = loaded_graph.get_tensor_by_name('y:0')\n",
    "        loaded_keep_prob = loaded_graph.get_tensor_by_name('keep_prob:0')\n",
    "        loaded_logits = loaded_graph.get_tensor_by_name('logits:0')\n",
    "        loaded_acc = loaded_graph.get_tensor_by_name('accuracy:0')\n",
    "        \n",
    "        # Get accuracy in batches for memory limitations\n",
    "        test_batch_acc_total = 0\n",
    "        test_batch_count = 0\n",
    "        \n",
    "        for test_feature_batch, test_label_batch in helper.batch_features_labels(test_features, test_labels, batch_size):\n",
    "            test_batch_acc_total += sess.run(\n",
    "                loaded_acc,\n",
    "                feed_dict={loaded_x: test_feature_batch, loaded_y: test_label_batch, loaded_keep_prob: 1.0})\n",
    "            test_batch_count += 1\n",
    "\n",
    "        print('Testing Accuracy: {}\\n'.format(test_batch_acc_total/test_batch_count))\n",
    "\n",
    "        # Print Random Samples\n",
    "        random_test_features, random_test_labels = tuple(zip(*random.sample(list(zip(test_features, test_labels)), n_samples)))\n",
    "        random_test_predictions = sess.run(\n",
    "            tf.nn.top_k(tf.nn.softmax(loaded_logits), top_n_predictions),\n",
    "            feed_dict={loaded_x: random_test_features, loaded_y: random_test_labels, loaded_keep_prob: 1.0})\n",
    "        helper.display_image_predictions(random_test_features, random_test_labels, random_test_predictions)\n",
    "\n",
    "\n",
    "test_model()"
   ]
  },
  {
   "cell_type": "markdown",
   "metadata": {},
   "source": [
    "## Why 50-80% Accuracy?\n",
    "You might be wondering why you can't get an accuracy any higher. First things first, 50% isn't bad for a simple CNN.  Pure guessing would get you 10% accuracy. However, you might notice people are getting scores [well above 80%](http://rodrigob.github.io/are_we_there_yet/build/classification_datasets_results.html#43494641522d3130).  That's because we haven't taught you all there is to know about neural networks. We still need to cover a few more techniques.\n",
    "## Submitting This Project\n",
    "When submitting this project, make sure to run all the cells before saving the notebook.  Save the notebook file as \"dlnd_image_classification.ipynb\" and save it as a HTML file under \"File\" -> \"Download as\".  Include the \"helper.py\" and \"problem_unittests.py\" files in your submission."
   ]
  }
 ],
 "metadata": {
  "kernelspec": {
   "display_name": "Python 3",
   "language": "python",
   "name": "python3"
  },
  "language_info": {
   "codemirror_mode": {
    "name": "ipython",
    "version": 3
   },
   "file_extension": ".py",
   "mimetype": "text/x-python",
   "name": "python",
   "nbconvert_exporter": "python",
   "pygments_lexer": "ipython3",
   "version": "3.5.3"
  }
 },
 "nbformat": 4,
 "nbformat_minor": 1
}
