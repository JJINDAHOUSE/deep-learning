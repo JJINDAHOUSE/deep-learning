{
 "cells": [
  {
   "cell_type": "markdown",
   "metadata": {
    "collapsed": true
   },
   "source": [
    "# Language Translation\n",
    "In this project, you’re going to take a peek into the realm of neural network machine translation.  You’ll be training a sequence to sequence model on a dataset of English and French sentences that can translate new sentences from English to French.\n",
    "## Get the Data\n",
    "Since translating the whole language of English to French will take lots of time to train, we have provided you with a small portion of the English corpus."
   ]
  },
  {
   "cell_type": "code",
   "execution_count": 1,
   "metadata": {
    "collapsed": true
   },
   "outputs": [],
   "source": [
    "\"\"\"\n",
    "DON'T MODIFY ANYTHING IN THIS CELL\n",
    "\"\"\"\n",
    "import helper\n",
    "import problem_unittests as tests\n",
    "\n",
    "source_path = 'data/small_vocab_en'\n",
    "target_path = 'data/small_vocab_fr'\n",
    "source_text = helper.load_data(source_path)\n",
    "target_text = helper.load_data(target_path)"
   ]
  },
  {
   "cell_type": "markdown",
   "metadata": {},
   "source": [
    "## Explore the Data\n",
    "Play around with view_sentence_range to view different parts of the data."
   ]
  },
  {
   "cell_type": "code",
   "execution_count": 2,
   "metadata": {},
   "outputs": [
    {
     "name": "stdout",
     "output_type": "stream",
     "text": [
      "Dataset Stats\n",
      "Roughly the number of unique words: 227\n",
      "Number of sentences: 137861\n",
      "Average number of words in a sentence: 13.225277634719028\n",
      "\n",
      "English sentences 0 to 10:\n",
      "new jersey is sometimes quiet during autumn , and it is snowy in april .\n",
      "the united states is usually chilly during july , and it is usually freezing in november .\n",
      "california is usually quiet during march , and it is usually hot in june .\n",
      "the united states is sometimes mild during june , and it is cold in september .\n",
      "your least liked fruit is the grape , but my least liked is the apple .\n",
      "his favorite fruit is the orange , but my favorite is the grape .\n",
      "paris is relaxing during december , but it is usually chilly in july .\n",
      "new jersey is busy during spring , and it is never hot in march .\n",
      "our least liked fruit is the lemon , but my least liked is the grape .\n",
      "the united states is sometimes busy during january , and it is sometimes warm in november .\n",
      "\n",
      "French sentences 0 to 10:\n",
      "new jersey est parfois calme pendant l' automne , et il est neigeux en avril .\n",
      "les états-unis est généralement froid en juillet , et il gèle habituellement en novembre .\n",
      "california est généralement calme en mars , et il est généralement chaud en juin .\n",
      "les états-unis est parfois légère en juin , et il fait froid en septembre .\n",
      "votre moins aimé fruit est le raisin , mais mon moins aimé est la pomme .\n",
      "son fruit préféré est l'orange , mais mon préféré est le raisin .\n",
      "paris est relaxant en décembre , mais il est généralement froid en juillet .\n",
      "new jersey est occupé au printemps , et il est jamais chaude en mars .\n",
      "notre fruit est moins aimé le citron , mais mon moins aimé est le raisin .\n",
      "les états-unis est parfois occupé en janvier , et il est parfois chaud en novembre .\n"
     ]
    }
   ],
   "source": [
    "view_sentence_range = (0, 10)\n",
    "\n",
    "\"\"\"\n",
    "DON'T MODIFY ANYTHING IN THIS CELL\n",
    "\"\"\"\n",
    "import numpy as np\n",
    "\n",
    "print('Dataset Stats')\n",
    "print('Roughly the number of unique words: {}'.format(len({word: None for word in source_text.split()})))\n",
    "\n",
    "sentences = source_text.split('\\n')\n",
    "word_counts = [len(sentence.split()) for sentence in sentences]\n",
    "print('Number of sentences: {}'.format(len(sentences)))\n",
    "print('Average number of words in a sentence: {}'.format(np.average(word_counts)))\n",
    "\n",
    "print()\n",
    "print('English sentences {} to {}:'.format(*view_sentence_range))\n",
    "print('\\n'.join(source_text.split('\\n')[view_sentence_range[0]:view_sentence_range[1]]))\n",
    "print()\n",
    "print('French sentences {} to {}:'.format(*view_sentence_range))\n",
    "print('\\n'.join(target_text.split('\\n')[view_sentence_range[0]:view_sentence_range[1]]))"
   ]
  },
  {
   "cell_type": "markdown",
   "metadata": {},
   "source": [
    "## Implement Preprocessing Function\n",
    "### Text to Word Ids\n",
    "As you did with other RNNs, you must turn the text into a number so the computer can understand it. In the function `text_to_ids()`, you'll turn `source_text` and `target_text` from words to ids.  However, you need to add the `<EOS>` word id at the end of `target_text`.  This will help the neural network predict when the sentence should end.\n",
    "\n",
    "You can get the `<EOS>` word id by doing:\n",
    "```python\n",
    "target_vocab_to_int['<EOS>']\n",
    "```\n",
    "You can get other word ids using `source_vocab_to_int` and `target_vocab_to_int`."
   ]
  },
  {
   "cell_type": "code",
   "execution_count": 3,
   "metadata": {},
   "outputs": [
    {
     "name": "stdout",
     "output_type": "stream",
     "text": [
      "Tests Passed\n"
     ]
    }
   ],
   "source": [
    "def text_to_ids(source_text, target_text, source_vocab_to_int, target_vocab_to_int):\n",
    "    \"\"\"\n",
    "    Convert source and target text to proper word ids\n",
    "    :param source_text: String that contains all the source text.\n",
    "    :param target_text: String that contains all the target text.\n",
    "    :param source_vocab_to_int: Dictionary to go from the source words to an id\n",
    "    :param target_vocab_to_int: Dictionary to go from the target words to an id\n",
    "    :return: A tuple of lists (source_id_text, target_id_text)\n",
    "    \"\"\"\n",
    "    # TODO: Implement Function\n",
    "    EOS = '<EOS>'\n",
    "    \n",
    "    source_id_text = [[source_vocab_to_int[word] for word in sentence.split()]\n",
    "                      for sentence in source_text.split('\\n')]\n",
    "    \n",
    "    target_id_text = [[target_vocab_to_int[word] for word in sentence.split()] + [target_vocab_to_int[EOS]]\n",
    "                      for sentence in target_text.split('\\n')]\n",
    "            \n",
    "    return (source_id_text, target_id_text)\n",
    "\n",
    "\"\"\"\n",
    "DON'T MODIFY ANYTHING IN THIS CELL THAT IS BELOW THIS LINE\n",
    "\"\"\"\n",
    "tests.test_text_to_ids(text_to_ids)"
   ]
  },
  {
   "cell_type": "markdown",
   "metadata": {},
   "source": [
    "### Preprocess all the data and save it\n",
    "Running the code cell below will preprocess all the data and save it to file."
   ]
  },
  {
   "cell_type": "code",
   "execution_count": 4,
   "metadata": {
    "collapsed": true
   },
   "outputs": [],
   "source": [
    "\"\"\"\n",
    "DON'T MODIFY ANYTHING IN THIS CELL\n",
    "\"\"\"\n",
    "helper.preprocess_and_save_data(source_path, target_path, text_to_ids)"
   ]
  },
  {
   "cell_type": "markdown",
   "metadata": {},
   "source": [
    "# Check Point\n",
    "This is your first checkpoint. If you ever decide to come back to this notebook or have to restart the notebook, you can start from here. The preprocessed data has been saved to disk."
   ]
  },
  {
   "cell_type": "code",
   "execution_count": 5,
   "metadata": {
    "collapsed": true
   },
   "outputs": [],
   "source": [
    "\"\"\"\n",
    "DON'T MODIFY ANYTHING IN THIS CELL\n",
    "\"\"\"\n",
    "import numpy as np\n",
    "import helper\n",
    "\n",
    "(source_int_text, target_int_text), (source_vocab_to_int, target_vocab_to_int), _ = helper.load_preprocess()"
   ]
  },
  {
   "cell_type": "markdown",
   "metadata": {},
   "source": [
    "### Check the Version of TensorFlow and Access to GPU\n",
    "This will check to make sure you have the correct version of TensorFlow and access to a GPU"
   ]
  },
  {
   "cell_type": "code",
   "execution_count": 6,
   "metadata": {},
   "outputs": [
    {
     "name": "stdout",
     "output_type": "stream",
     "text": [
      "TensorFlow Version: 1.1.0\n"
     ]
    },
    {
     "name": "stderr",
     "output_type": "stream",
     "text": [
      "/Users/junhuiliao/anaconda/envs/tensorflow/lib/python3.6/site-packages/ipykernel_launcher.py:15: UserWarning: No GPU found. Please use a GPU to train your neural network.\n",
      "  from ipykernel import kernelapp as app\n"
     ]
    }
   ],
   "source": [
    "\"\"\"\n",
    "DON'T MODIFY ANYTHING IN THIS CELL\n",
    "\"\"\"\n",
    "from distutils.version import LooseVersion\n",
    "import warnings\n",
    "import tensorflow as tf\n",
    "from tensorflow.python.layers.core import Dense\n",
    "\n",
    "# Check TensorFlow Version\n",
    "assert LooseVersion(tf.__version__) >= LooseVersion('1.1'), 'Please use TensorFlow version 1.1 or newer'\n",
    "print('TensorFlow Version: {}'.format(tf.__version__))\n",
    "\n",
    "# Check for a GPU\n",
    "if not tf.test.gpu_device_name():\n",
    "    warnings.warn('No GPU found. Please use a GPU to train your neural network.')\n",
    "else:\n",
    "    print('Default GPU Device: {}'.format(tf.test.gpu_device_name()))"
   ]
  },
  {
   "cell_type": "markdown",
   "metadata": {},
   "source": [
    "## Build the Neural Network\n",
    "You'll build the components necessary to build a Sequence-to-Sequence model by implementing the following functions below:\n",
    "- `model_inputs`\n",
    "- `process_decoder_input`\n",
    "- `encoding_layer`\n",
    "- `decoding_layer_train`\n",
    "- `decoding_layer_infer`\n",
    "- `decoding_layer`\n",
    "- `seq2seq_model`\n",
    "\n",
    "### Input\n",
    "Implement the `model_inputs()` function to create TF Placeholders for the Neural Network. It should create the following placeholders:\n",
    "\n",
    "- Input text placeholder named \"input\" using the TF Placeholder name parameter with rank 2.\n",
    "- Targets placeholder with rank 2.\n",
    "- Learning rate placeholder with rank 0.\n",
    "- Keep probability placeholder named \"keep_prob\" using the TF Placeholder name parameter with rank 0.\n",
    "- Target sequence length placeholder named \"target_sequence_length\" with rank 1\n",
    "- Max target sequence length tensor named \"max_target_len\" getting its value from applying tf.reduce_max on the target_sequence_length placeholder. Rank 0.\n",
    "- Source sequence length placeholder named \"source_sequence_length\" with rank 1\n",
    "\n",
    "Return the placeholders in the following the tuple (input, targets, learning rate, keep probability, target sequence length, max target sequence length, source sequence length)"
   ]
  },
  {
   "cell_type": "code",
   "execution_count": 7,
   "metadata": {},
   "outputs": [
    {
     "name": "stdout",
     "output_type": "stream",
     "text": [
      "Tests Passed\n"
     ]
    }
   ],
   "source": [
    "def model_inputs():\n",
    "    \"\"\"\n",
    "    Create TF Placeholders for input, targets, learning rate, and lengths of source and target sequences.\n",
    "    :return: Tuple (input, targets, learning rate, keep probability, target sequence length,\n",
    "    max target sequence length, source sequence length)\n",
    "    \"\"\"\n",
    "    # TODO: Implement Function\n",
    "    inputs = tf.placeholder(tf.int32, shape=[None, None], name='input')\n",
    "    targets = tf.placeholder(tf.int32, shape=[None, None], name='targets')\n",
    "    learning_rate = tf.placeholder(tf.float32, name='learning_rate')\n",
    "    keep_prob = tf.placeholder(tf.float32, name='keep_prob')\n",
    "    target_sequence_length = tf.placeholder(tf.int32, [None], name='target_sequence_length')\n",
    "    max_target_sequence_length = tf.reduce_max(target_sequence_length)\n",
    "    source_sequence_length = tf.placeholder(tf.int32, [None], name='source_sequence_length')\n",
    "    \n",
    "    return (inputs, targets, learning_rate, keep_prob, target_sequence_length, \n",
    "            max_target_sequence_length, source_sequence_length)\n",
    "\n",
    "\n",
    "\"\"\"\n",
    "DON'T MODIFY ANYTHING IN THIS CELL THAT IS BELOW THIS LINE\n",
    "\"\"\"\n",
    "tests.test_model_inputs(model_inputs)"
   ]
  },
  {
   "cell_type": "markdown",
   "metadata": {},
   "source": [
    "### Process Decoder Input\n",
    "Implement `process_decoder_input` by removing the last word id from each batch in `target_data` and concat the GO ID to the begining of each batch."
   ]
  },
  {
   "cell_type": "code",
   "execution_count": 8,
   "metadata": {},
   "outputs": [
    {
     "name": "stdout",
     "output_type": "stream",
     "text": [
      "Tests Passed\n"
     ]
    }
   ],
   "source": [
    "def process_decoder_input(target_data, target_vocab_to_int, batch_size):\n",
    "    \"\"\"\n",
    "    Preprocess target data for encoding\n",
    "    :param target_data: Target Placehoder\n",
    "    :param target_vocab_to_int: Dictionary to go from the target words to an id\n",
    "    :param batch_size: Batch Size\n",
    "    :return: Preprocessed target data\n",
    "    \"\"\"\n",
    "    # TODO: Implement Function\n",
    "    x = tf.strided_slice(target_data, [0, 0], [batch_size, -1], [1, 1])\n",
    "    y = tf.concat([tf.fill([batch_size, 1], target_vocab_to_int['<GO>']), x], 1)\n",
    "    return y\n",
    "\n",
    "\"\"\"\n",
    "DON'T MODIFY ANYTHING IN THIS CELL THAT IS BELOW THIS LINE\n",
    "\"\"\"\n",
    "tests.test_process_encoding_input(process_decoder_input)"
   ]
  },
  {
   "cell_type": "markdown",
   "metadata": {},
   "source": [
    "### Encoding\n",
    "Implement `encoding_layer()` to create a Encoder RNN layer:\n",
    " * Embed the encoder input using [`tf.contrib.layers.embed_sequence`](https://www.tensorflow.org/api_docs/python/tf/contrib/layers/embed_sequence)\n",
    " * Construct a [stacked](https://github.com/tensorflow/tensorflow/blob/6947f65a374ebf29e74bb71e36fd82760056d82c/tensorflow/docs_src/tutorials/recurrent.md#stacking-multiple-lstms) [`tf.contrib.rnn.LSTMCell`](https://www.tensorflow.org/api_docs/python/tf/contrib/rnn/LSTMCell) wrapped in a [`tf.contrib.rnn.DropoutWrapper`](https://www.tensorflow.org/api_docs/python/tf/contrib/rnn/DropoutWrapper)\n",
    " * Pass cell and embedded input to [`tf.nn.dynamic_rnn()`](https://www.tensorflow.org/api_docs/python/tf/nn/dynamic_rnn)"
   ]
  },
  {
   "cell_type": "code",
   "execution_count": 13,
   "metadata": {
    "scrolled": false
   },
   "outputs": [
    {
     "name": "stdout",
     "output_type": "stream",
     "text": [
      "Tests Passed\n"
     ]
    }
   ],
   "source": [
    "from imp import reload\n",
    "reload(tests)\n",
    "\n",
    "def encoding_layer(rnn_inputs, rnn_size, num_layers, keep_prob, \n",
    "                   source_sequence_length, source_vocab_size, \n",
    "                   encoding_embedding_size):\n",
    "    \"\"\"\n",
    "    Create encoding layer\n",
    "    :param rnn_inputs: Inputs for the RNN\n",
    "    :param rnn_size: RNN Size\n",
    "    :param num_layers: Number of layers\n",
    "    :param keep_prob: Dropout keep probability\n",
    "    :param source_sequence_length: a list of the lengths of each sequence in the batch\n",
    "    :param source_vocab_size: vocabulary size of source data\n",
    "    :param encoding_embedding_size: embedding size of source data\n",
    "    :return: tuple (RNN output, RNN state)\n",
    "    \"\"\"\n",
    "    # TODO: Implement Function\n",
    "    # embedding input\n",
    "    encoding_input = tf.contrib.layers.embed_sequence(rnn_inputs, source_vocab_size, encoding_embedding_size)\n",
    "    cell = tf.contrib.rnn.MultiRNNCell([tf.contrib.rnn.LSTMCell(rnn_size) for _ in range(num_layers)])\n",
    "    cell = tf.contrib.rnn.DropoutWrapper(cell, keep_prob)\n",
    "    rnn_output, rnn_state = tf.nn.dynamic_rnn(cell, encoding_input, source_sequence_length, dtype=tf.float32)\n",
    "    \n",
    "    return rnn_output, rnn_state\n",
    "\n",
    "\"\"\"\n",
    "DON'T MODIFY ANYTHING IN THIS CELL THAT IS BELOW THIS LINE\n",
    "\"\"\"\n",
    "tests.test_encoding_layer(encoding_layer)"
   ]
  },
  {
   "cell_type": "markdown",
   "metadata": {},
   "source": [
    "### Decoding - Training\n",
    "Create a training decoding layer:\n",
    "* Create a [`tf.contrib.seq2seq.TrainingHelper`](https://www.tensorflow.org/api_docs/python/tf/contrib/seq2seq/TrainingHelper) \n",
    "* Create a [`tf.contrib.seq2seq.BasicDecoder`](https://www.tensorflow.org/api_docs/python/tf/contrib/seq2seq/BasicDecoder)\n",
    "* Obtain the decoder outputs from [`tf.contrib.seq2seq.dynamic_decode`](https://www.tensorflow.org/api_docs/python/tf/contrib/seq2seq/dynamic_decode)"
   ]
  },
  {
   "cell_type": "code",
   "execution_count": 29,
   "metadata": {},
   "outputs": [
    {
     "name": "stdout",
     "output_type": "stream",
     "text": [
      "Tests Passed\n"
     ]
    }
   ],
   "source": [
    "\n",
    "def decoding_layer_train(encoder_state, dec_cell, dec_embed_input, \n",
    "                         target_sequence_length, max_summary_length, \n",
    "                         output_layer, keep_prob):\n",
    "    \"\"\"\n",
    "    Create a decoding layer for training\n",
    "    :param encoder_state: Encoder State\n",
    "    :param dec_cell: Decoder RNN Cell\n",
    "    :param dec_embed_input: Decoder embedded input\n",
    "    :param target_sequence_length: The lengths of each sequence in the target batch\n",
    "    :param max_summary_length: The length of the longest sequence in the batch\n",
    "    :param output_layer: Function to apply the output layer\n",
    "    :param keep_prob: Dropout keep probability\n",
    "    :return: BasicDecoderOutput containing training logits and sample_id\n",
    "    \"\"\"\n",
    "    # TODO: Implement Function\n",
    "    helper = tf.contrib.seq2seq.TrainingHelper(dec_embed_input, target_sequence_length)\n",
    "    decoder = tf.contrib.seq2seq.BasicDecoder(dec_cell, helper, encoder_state, output_layer)\n",
    "    final_outputs, _ = tf.contrib.seq2seq.dynamic_decode(decoder, impute_finished=True, \n",
    "                                                         maximum_iterations=max_summary_length)\n",
    "    \n",
    "    \n",
    "    return final_outputs\n",
    "\n",
    "\n",
    "\n",
    "\"\"\"\n",
    "DON'T MODIFY ANYTHING IN THIS CELL THAT IS BELOW THIS LINE\n",
    "\"\"\"\n",
    "tests.test_decoding_layer_train(decoding_layer_train)"
   ]
  },
  {
   "cell_type": "markdown",
   "metadata": {},
   "source": [
    "### Decoding - Inference\n",
    "Create inference decoder:\n",
    "* Create a [`tf.contrib.seq2seq.GreedyEmbeddingHelper`](https://www.tensorflow.org/api_docs/python/tf/contrib/seq2seq/GreedyEmbeddingHelper)\n",
    "* Create a [`tf.contrib.seq2seq.BasicDecoder`](https://www.tensorflow.org/api_docs/python/tf/contrib/seq2seq/BasicDecoder)\n",
    "* Obtain the decoder outputs from [`tf.contrib.seq2seq.dynamic_decode`](https://www.tensorflow.org/api_docs/python/tf/contrib/seq2seq/dynamic_decode)"
   ]
  },
  {
   "cell_type": "code",
   "execution_count": 21,
   "metadata": {
    "scrolled": true
   },
   "outputs": [
    {
     "name": "stdout",
     "output_type": "stream",
     "text": [
      "Tests Passed\n"
     ]
    }
   ],
   "source": [
    "def decoding_layer_infer(encoder_state, dec_cell, dec_embeddings, start_of_sequence_id,\n",
    "                         end_of_sequence_id, max_target_sequence_length,\n",
    "                         vocab_size, output_layer, batch_size, keep_prob):\n",
    "    \"\"\"\n",
    "    Create a decoding layer for inference\n",
    "    :param encoder_state: Encoder state\n",
    "    :param dec_cell: Decoder RNN Cell\n",
    "    :param dec_embeddings: Decoder embeddings\n",
    "    :param start_of_sequence_id: GO ID\n",
    "    :param end_of_sequence_id: EOS Id\n",
    "    :param max_target_sequence_length: Maximum length of target sequences\n",
    "    :param vocab_size: Size of decoder/target vocabulary\n",
    "    :param decoding_scope: TenorFlow Variable Scope for decoding\n",
    "    :param output_layer: Function to apply the output layer\n",
    "    :param batch_size: Batch size\n",
    "    :param keep_prob: Dropout keep probability\n",
    "    :return: BasicDecoderOutput containing inference logits and sample_id\n",
    "    \"\"\"\n",
    "    # TODO: Implement Function\n",
    "    start_tokens = tf.tile(tf.constant([start_of_sequence_id], dtype=tf.int32), [batch_size], name='start_tokens')\n",
    "    helper = tf.contrib.seq2seq.GreedyEmbeddingHelper(dec_embeddings, start_tokens, end_of_sequence_id)\n",
    "    decoder = tf.contrib.seq2seq.BasicDecoder(dec_cell, helper, encoder_state, output_layer)\n",
    "    final_output, _ = tf.contrib.seq2seq.dynamic_decode(decoder, impute_finished=True, \n",
    "                                                       maximum_iterations=max_target_sequence_length)\n",
    "    return final_output\n",
    "\n",
    "\n",
    "\n",
    "\"\"\"\n",
    "DON'T MODIFY ANYTHING IN THIS CELL THAT IS BELOW THIS LINE\n",
    "\"\"\"\n",
    "tests.test_decoding_layer_infer(decoding_layer_infer)"
   ]
  },
  {
   "cell_type": "markdown",
   "metadata": {},
   "source": [
    "### Build the Decoding Layer\n",
    "Implement `decoding_layer()` to create a Decoder RNN layer.\n",
    "\n",
    "* Embed the target sequences\n",
    "* Construct the decoder LSTM cell (just like you constructed the encoder cell above)\n",
    "* Create an output layer to map the outputs of the decoder to the elements of our vocabulary\n",
    "* Use the your `decoding_layer_train(encoder_state, dec_cell, dec_embed_input, target_sequence_length, max_target_sequence_length, output_layer, keep_prob)` function to get the training logits.\n",
    "* Use your `decoding_layer_infer(encoder_state, dec_cell, dec_embeddings, start_of_sequence_id, end_of_sequence_id, max_target_sequence_length, vocab_size, output_layer, batch_size, keep_prob)` function to get the inference logits.\n",
    "\n",
    "Note: You'll need to use [tf.variable_scope](https://www.tensorflow.org/api_docs/python/tf/variable_scope) to share variables between training and inference."
   ]
  },
  {
   "cell_type": "code",
   "execution_count": 35,
   "metadata": {},
   "outputs": [
    {
     "name": "stdout",
     "output_type": "stream",
     "text": [
      "Tests Passed\n"
     ]
    }
   ],
   "source": [
    "from tensorflow.python.layers import core as layers_core\n",
    "def decoding_layer(dec_input, encoder_state,\n",
    "                   target_sequence_length, max_target_sequence_length,\n",
    "                   rnn_size,\n",
    "                   num_layers, target_vocab_to_int, target_vocab_size,\n",
    "                   batch_size, keep_prob, decoding_embedding_size):\n",
    "    \"\"\"\n",
    "    Create decoding layer\n",
    "    :param dec_input: Decoder input\n",
    "    :param encoder_state: Encoder state\n",
    "    :param target_sequence_length: The lengths of each sequence in the target batch\n",
    "    :param max_target_sequence_length: Maximum length of target sequences\n",
    "    :param rnn_size: RNN Size\n",
    "    :param num_layers: Number of layers\n",
    "    :param target_vocab_to_int: Dictionary to go from the target words to an id\n",
    "    :param target_vocab_size: Size of target vocabulary\n",
    "    :param batch_size: The size of the batch\n",
    "    :param keep_prob: Dropout keep probability\n",
    "    :param decoding_embedding_size: Decoding embedding size\n",
    "    :return: Tuple of (Training BasicDecoderOutput, Inference BasicDecoderOutput)\n",
    "    \"\"\"\n",
    "    # TODO: Implement Function\n",
    "    \n",
    "    # embedding target sequence\n",
    "    dec_embeddings = tf.Variable(tf.random_uniform([target_vocab_size, decoding_embedding_size]))\n",
    "    dec_embed_input = tf.nn.embedding_lookup(dec_embeddings, dec_input)\n",
    "    dec_cell = tf.contrib.rnn.MultiRNNCell([tf.contrib.rnn.LSTMCell(rnn_size) for _ in range(num_layers)])\n",
    "    # create output layer to map the outputs of the decoder to the elements of our vocabulary\n",
    "    output_layer = layers_core.Dense(target_vocab_size, \n",
    "                                     kernel_initializer=tf.truncated_normal_initializer(mean=0.0, stddev=0.1))\n",
    "    \n",
    "    # decoder train\n",
    "    with tf.variable_scope(\"decoding\") as decoding_scope:\n",
    "        dec_outputs_train = decoding_layer_train(encoder_state, dec_cell, dec_embed_input, \n",
    "                                                target_sequence_length, max_target_sequence_length, \n",
    "                                                output_layer, keep_prob)\n",
    "        \n",
    "    # decoder inference\n",
    "    start_of_sequence_id = target_vocab_to_int[\"<GO>\"]\n",
    "    end_of_sequence_id = target_vocab_to_int[\"<EOS>\"]\n",
    "    \n",
    "    with tf.variable_scope(\"decoding\", reuse=True) as decoding_scope:\n",
    "        dec_outputs_infer = decoding_layer_infer(encoder_state, dec_cell, dec_embeddings, start_of_sequence_id, \n",
    "                                                 end_of_sequence_id, max_target_sequence_length, \n",
    "                                                 target_vocab_size, output_layer, batch_size, keep_prob)\n",
    "    \n",
    "    return dec_outputs_train, dec_outputs_infer\n",
    "\n",
    "\n",
    "\n",
    "\"\"\"\n",
    "DON'T MODIFY ANYTHING IN THIS CELL THAT IS BELOW THIS LINE\n",
    "\"\"\"\n",
    "tests.test_decoding_layer(decoding_layer)"
   ]
  },
  {
   "cell_type": "markdown",
   "metadata": {},
   "source": [
    "### Build the Neural Network\n",
    "Apply the functions you implemented above to:\n",
    "\n",
    "- Encode the input using your `encoding_layer(rnn_inputs, rnn_size, num_layers, keep_prob,  source_sequence_length, source_vocab_size, encoding_embedding_size)`.\n",
    "- Process target data using your `process_decoder_input(target_data, target_vocab_to_int, batch_size)` function.\n",
    "- Decode the encoded input using your `decoding_layer(dec_input, enc_state, target_sequence_length, max_target_sentence_length, rnn_size, num_layers, target_vocab_to_int, target_vocab_size, batch_size, keep_prob, dec_embedding_size)` function."
   ]
  },
  {
   "cell_type": "code",
   "execution_count": 41,
   "metadata": {},
   "outputs": [
    {
     "name": "stdout",
     "output_type": "stream",
     "text": [
      "Tests Passed\n"
     ]
    }
   ],
   "source": [
    "def seq2seq_model(input_data, target_data, keep_prob, batch_size,\n",
    "                  source_sequence_length, target_sequence_length,\n",
    "                  max_target_sentence_length,\n",
    "                  source_vocab_size, target_vocab_size,\n",
    "                  enc_embedding_size, dec_embedding_size,\n",
    "                  rnn_size, num_layers, target_vocab_to_int):\n",
    "    \"\"\"\n",
    "    Build the Sequence-to-Sequence part of the neural network\n",
    "    :param input_data: Input placeholder\n",
    "    :param target_data: Target placeholder\n",
    "    :param keep_prob: Dropout keep probability placeholder\n",
    "    :param batch_size: Batch Size\n",
    "    :param source_sequence_length: Sequence Lengths of source sequences in the batch\n",
    "    :param target_sequence_length: Sequence Lengths of target sequences in the batch\n",
    "    :param source_vocab_size: Source vocabulary size\n",
    "    :param target_vocab_size: Target vocabulary size\n",
    "    :param enc_embedding_size: Decoder embedding size\n",
    "    :param dec_embedding_size: Encoder embedding size\n",
    "    :param rnn_size: RNN Size\n",
    "    :param num_layers: Number of layers\n",
    "    :param target_vocab_to_int: Dictionary to go from the target words to an id\n",
    "    :return: Tuple of (Training BasicDecoderOutput, Inference BasicDecoderOutput)\n",
    "    \"\"\"\n",
    "    # TODO: Implement Function\n",
    "    enc_output, enc_state = encoding_layer(input_data, rnn_size, num_layers, keep_prob,  source_sequence_length, \n",
    "                                  source_vocab_size, enc_embedding_size)\n",
    "    \n",
    "    dec_input = process_decoder_input(target_data, target_vocab_to_int, batch_size)\n",
    "    \n",
    "    dec_outputs_train, dec_outputs_infer = decoding_layer(dec_input, enc_state, target_sequence_length, \n",
    "                                                          max_target_sentence_length, rnn_size, num_layers, \n",
    "                                                          target_vocab_to_int, target_vocab_size, batch_size, \n",
    "                                                          keep_prob, dec_embedding_size)\n",
    "    return dec_outputs_train, dec_outputs_infer\n",
    "\n",
    "\n",
    "\"\"\"\n",
    "DON'T MODIFY ANYTHING IN THIS CELL THAT IS BELOW THIS LINE\n",
    "\"\"\"\n",
    "tests.test_seq2seq_model(seq2seq_model)"
   ]
  },
  {
   "cell_type": "markdown",
   "metadata": {},
   "source": [
    "## Neural Network Training\n",
    "### Hyperparameters\n",
    "Tune the following parameters:\n",
    "\n",
    "- Set `epochs` to the number of epochs.\n",
    "- Set `batch_size` to the batch size.\n",
    "- Set `rnn_size` to the size of the RNNs.\n",
    "- Set `num_layers` to the number of layers.\n",
    "- Set `encoding_embedding_size` to the size of the embedding for the encoder.\n",
    "- Set `decoding_embedding_size` to the size of the embedding for the decoder.\n",
    "- Set `learning_rate` to the learning rate.\n",
    "- Set `keep_probability` to the Dropout keep probability\n",
    "- Set `display_step` to state how many steps between each debug output statement"
   ]
  },
  {
   "cell_type": "code",
   "execution_count": 42,
   "metadata": {
    "collapsed": true
   },
   "outputs": [],
   "source": [
    "# Number of Epochs\n",
    "epochs = 10\n",
    "# Batch Size\n",
    "batch_size = 512\n",
    "# RNN Size\n",
    "rnn_size = 512\n",
    "# Number of Layers\n",
    "num_layers = 4\n",
    "# Embedding Size\n",
    "encoding_embedding_size = 128\n",
    "decoding_embedding_size = 128\n",
    "# Learning Rate\n",
    "learning_rate = 0.001\n",
    "# Dropout Keep Probability\n",
    "keep_probability = 0.8\n",
    "display_step = 10"
   ]
  },
  {
   "cell_type": "markdown",
   "metadata": {},
   "source": [
    "### Build the Graph\n",
    "Build the graph using the neural network you implemented."
   ]
  },
  {
   "cell_type": "code",
   "execution_count": 43,
   "metadata": {
    "collapsed": true
   },
   "outputs": [],
   "source": [
    "\"\"\"\n",
    "DON'T MODIFY ANYTHING IN THIS CELL\n",
    "\"\"\"\n",
    "save_path = 'checkpoints/dev'\n",
    "(source_int_text, target_int_text), (source_vocab_to_int, target_vocab_to_int), _ = helper.load_preprocess()\n",
    "max_target_sentence_length = max([len(sentence) for sentence in source_int_text])\n",
    "\n",
    "train_graph = tf.Graph()\n",
    "with train_graph.as_default():\n",
    "    input_data, targets, lr, keep_prob, target_sequence_length, max_target_sequence_length, source_sequence_length = model_inputs()\n",
    "\n",
    "    #sequence_length = tf.placeholder_with_default(max_target_sentence_length, None, name='sequence_length')\n",
    "    input_shape = tf.shape(input_data)\n",
    "\n",
    "    train_logits, inference_logits = seq2seq_model(tf.reverse(input_data, [-1]),\n",
    "                                                   targets,\n",
    "                                                   keep_prob,\n",
    "                                                   batch_size,\n",
    "                                                   source_sequence_length,\n",
    "                                                   target_sequence_length,\n",
    "                                                   max_target_sequence_length,\n",
    "                                                   len(source_vocab_to_int),\n",
    "                                                   len(target_vocab_to_int),\n",
    "                                                   encoding_embedding_size,\n",
    "                                                   decoding_embedding_size,\n",
    "                                                   rnn_size,\n",
    "                                                   num_layers,\n",
    "                                                   target_vocab_to_int)\n",
    "\n",
    "\n",
    "    training_logits = tf.identity(train_logits.rnn_output, name='logits')\n",
    "    inference_logits = tf.identity(inference_logits.sample_id, name='predictions')\n",
    "\n",
    "    masks = tf.sequence_mask(target_sequence_length, max_target_sequence_length, dtype=tf.float32, name='masks')\n",
    "\n",
    "    with tf.name_scope(\"optimization\"):\n",
    "        # Loss function\n",
    "        cost = tf.contrib.seq2seq.sequence_loss(\n",
    "            training_logits,\n",
    "            targets,\n",
    "            masks)\n",
    "\n",
    "        # Optimizer\n",
    "        optimizer = tf.train.AdamOptimizer(lr)\n",
    "\n",
    "        # Gradient Clipping\n",
    "        gradients = optimizer.compute_gradients(cost)\n",
    "        capped_gradients = [(tf.clip_by_value(grad, -1., 1.), var) for grad, var in gradients if grad is not None]\n",
    "        train_op = optimizer.apply_gradients(capped_gradients)\n"
   ]
  },
  {
   "cell_type": "markdown",
   "metadata": {},
   "source": [
    "Batch and pad the source and target sequences"
   ]
  },
  {
   "cell_type": "code",
   "execution_count": 44,
   "metadata": {
    "collapsed": true
   },
   "outputs": [],
   "source": [
    "\"\"\"\n",
    "DON'T MODIFY ANYTHING IN THIS CELL\n",
    "\"\"\"\n",
    "def pad_sentence_batch(sentence_batch, pad_int):\n",
    "    \"\"\"Pad sentences with <PAD> so that each sentence of a batch has the same length\"\"\"\n",
    "    max_sentence = max([len(sentence) for sentence in sentence_batch])\n",
    "    return [sentence + [pad_int] * (max_sentence - len(sentence)) for sentence in sentence_batch]\n",
    "\n",
    "\n",
    "def get_batches(sources, targets, batch_size, source_pad_int, target_pad_int):\n",
    "    \"\"\"Batch targets, sources, and the lengths of their sentences together\"\"\"\n",
    "    for batch_i in range(0, len(sources)//batch_size):\n",
    "        start_i = batch_i * batch_size\n",
    "\n",
    "        # Slice the right amount for the batch\n",
    "        sources_batch = sources[start_i:start_i + batch_size]\n",
    "        targets_batch = targets[start_i:start_i + batch_size]\n",
    "\n",
    "        # Pad\n",
    "        pad_sources_batch = np.array(pad_sentence_batch(sources_batch, source_pad_int))\n",
    "        pad_targets_batch = np.array(pad_sentence_batch(targets_batch, target_pad_int))\n",
    "\n",
    "        # Need the lengths for the _lengths parameters\n",
    "        pad_targets_lengths = []\n",
    "        for target in pad_targets_batch:\n",
    "            pad_targets_lengths.append(len(target))\n",
    "\n",
    "        pad_source_lengths = []\n",
    "        for source in pad_sources_batch:\n",
    "            pad_source_lengths.append(len(source))\n",
    "\n",
    "        yield pad_sources_batch, pad_targets_batch, pad_source_lengths, pad_targets_lengths\n"
   ]
  },
  {
   "cell_type": "markdown",
   "metadata": {},
   "source": [
    "### Train\n",
    "Train the neural network on the preprocessed data. If you have a hard time getting a good loss, check the forms to see if anyone is having the same problem."
   ]
  },
  {
   "cell_type": "code",
   "execution_count": 45,
   "metadata": {
    "scrolled": true
   },
   "outputs": [
    {
     "name": "stdout",
     "output_type": "stream",
     "text": [
      "Epoch   0 Batch   10/269 - Train Accuracy: 0.2901, Validation Accuracy: 0.3591, Loss: 3.5808\n",
      "Epoch   0 Batch   20/269 - Train Accuracy: 0.3606, Validation Accuracy: 0.4172, Loss: 2.8581\n",
      "Epoch   0 Batch   30/269 - Train Accuracy: 0.4054, Validation Accuracy: 0.4324, Loss: 2.4944\n",
      "Epoch   0 Batch   40/269 - Train Accuracy: 0.4198, Validation Accuracy: 0.4658, Loss: 2.3792\n",
      "Epoch   0 Batch   50/269 - Train Accuracy: 0.4337, Validation Accuracy: 0.4877, Loss: 2.2823\n",
      "Epoch   0 Batch   60/269 - Train Accuracy: 0.4793, Validation Accuracy: 0.4931, Loss: 2.0475\n",
      "Epoch   0 Batch   70/269 - Train Accuracy: 0.4629, Validation Accuracy: 0.4746, Loss: 2.4171\n",
      "Epoch   0 Batch   80/269 - Train Accuracy: 0.4839, Validation Accuracy: 0.4989, Loss: 2.0276\n",
      "Epoch   0 Batch   90/269 - Train Accuracy: 0.4675, Validation Accuracy: 0.5216, Loss: 1.9985\n",
      "Epoch   0 Batch  100/269 - Train Accuracy: 0.5057, Validation Accuracy: 0.5163, Loss: 1.6939\n",
      "Epoch   0 Batch  110/269 - Train Accuracy: 0.5000, Validation Accuracy: 0.5297, Loss: 1.6305\n",
      "Epoch   0 Batch  120/269 - Train Accuracy: 0.4847, Validation Accuracy: 0.5265, Loss: 1.5857\n",
      "Epoch   0 Batch  130/269 - Train Accuracy: 0.4800, Validation Accuracy: 0.5222, Loss: 1.5891\n",
      "Epoch   0 Batch  140/269 - Train Accuracy: 0.4796, Validation Accuracy: 0.5099, Loss: 1.4230\n",
      "Epoch   0 Batch  150/269 - Train Accuracy: 0.5282, Validation Accuracy: 0.5411, Loss: 1.3939\n",
      "Epoch   0 Batch  160/269 - Train Accuracy: 0.5288, Validation Accuracy: 0.5445, Loss: 1.3294\n",
      "Epoch   0 Batch  170/269 - Train Accuracy: 0.5510, Validation Accuracy: 0.5629, Loss: 1.2575\n",
      "Epoch   0 Batch  180/269 - Train Accuracy: 0.5507, Validation Accuracy: 0.5595, Loss: 1.2014\n",
      "Epoch   0 Batch  190/269 - Train Accuracy: 0.5399, Validation Accuracy: 0.5479, Loss: 1.1511\n",
      "Epoch   0 Batch  200/269 - Train Accuracy: 0.5392, Validation Accuracy: 0.5566, Loss: 1.1691\n",
      "Epoch   0 Batch  210/269 - Train Accuracy: 0.4637, Validation Accuracy: 0.4613, Loss: 1.4141\n",
      "Epoch   0 Batch  220/269 - Train Accuracy: 0.5027, Validation Accuracy: 0.5169, Loss: 1.3185\n",
      "Epoch   0 Batch  230/269 - Train Accuracy: 0.5230, Validation Accuracy: 0.5516, Loss: 1.2532\n",
      "Epoch   0 Batch  240/269 - Train Accuracy: 0.5871, Validation Accuracy: 0.5570, Loss: 1.0287\n",
      "Epoch   0 Batch  250/269 - Train Accuracy: 0.5532, Validation Accuracy: 0.5781, Loss: 1.0968\n",
      "Epoch   0 Batch  260/269 - Train Accuracy: 0.5408, Validation Accuracy: 0.5755, Loss: 1.1008\n",
      "Epoch   1 Batch   10/269 - Train Accuracy: 0.5563, Validation Accuracy: 0.5813, Loss: 1.0212\n",
      "Epoch   1 Batch   20/269 - Train Accuracy: 0.5656, Validation Accuracy: 0.5801, Loss: 1.0304\n",
      "Epoch   1 Batch   30/269 - Train Accuracy: 0.5787, Validation Accuracy: 0.5820, Loss: 0.9282\n",
      "Epoch   1 Batch   40/269 - Train Accuracy: 0.5635, Validation Accuracy: 0.5875, Loss: 0.9621\n",
      "Epoch   1 Batch   50/269 - Train Accuracy: 0.5602, Validation Accuracy: 0.5906, Loss: 1.0033\n",
      "Epoch   1 Batch   60/269 - Train Accuracy: 0.5959, Validation Accuracy: 0.5912, Loss: 0.8762\n",
      "Epoch   1 Batch   70/269 - Train Accuracy: 0.5980, Validation Accuracy: 0.5906, Loss: 0.8901\n",
      "Epoch   1 Batch   80/269 - Train Accuracy: 0.5999, Validation Accuracy: 0.5915, Loss: 0.8654\n",
      "Epoch   1 Batch   90/269 - Train Accuracy: 0.5570, Validation Accuracy: 0.5914, Loss: 0.9147\n",
      "Epoch   1 Batch  100/269 - Train Accuracy: 0.6019, Validation Accuracy: 0.5888, Loss: 0.8091\n",
      "Epoch   1 Batch  110/269 - Train Accuracy: 0.5858, Validation Accuracy: 0.6064, Loss: 0.7954\n",
      "Epoch   1 Batch  120/269 - Train Accuracy: 0.5870, Validation Accuracy: 0.6048, Loss: 0.8227\n",
      "Epoch   1 Batch  130/269 - Train Accuracy: 0.5728, Validation Accuracy: 0.5874, Loss: 0.8055\n",
      "Epoch   1 Batch  140/269 - Train Accuracy: 0.6100, Validation Accuracy: 0.6126, Loss: 0.7755\n",
      "Epoch   1 Batch  150/269 - Train Accuracy: 0.6086, Validation Accuracy: 0.6141, Loss: 0.7551\n",
      "Epoch   1 Batch  160/269 - Train Accuracy: 0.6132, Validation Accuracy: 0.6167, Loss: 0.7165\n",
      "Epoch   1 Batch  170/269 - Train Accuracy: 0.6067, Validation Accuracy: 0.6209, Loss: 0.6912\n",
      "Epoch   1 Batch  180/269 - Train Accuracy: 0.6080, Validation Accuracy: 0.6201, Loss: 0.6699\n",
      "Epoch   1 Batch  190/269 - Train Accuracy: 0.6041, Validation Accuracy: 0.6169, Loss: 0.6579\n",
      "Epoch   1 Batch  200/269 - Train Accuracy: 0.5922, Validation Accuracy: 0.6205, Loss: 0.6846\n",
      "Epoch   1 Batch  210/269 - Train Accuracy: 0.6273, Validation Accuracy: 0.6237, Loss: 0.6254\n",
      "Epoch   1 Batch  220/269 - Train Accuracy: 0.6326, Validation Accuracy: 0.6336, Loss: 0.5926\n",
      "Epoch   1 Batch  230/269 - Train Accuracy: 0.6091, Validation Accuracy: 0.6196, Loss: 0.6132\n",
      "Epoch   1 Batch  240/269 - Train Accuracy: 0.6350, Validation Accuracy: 0.5903, Loss: 0.5443\n",
      "Epoch   1 Batch  250/269 - Train Accuracy: 0.6114, Validation Accuracy: 0.6305, Loss: 0.5944\n",
      "Epoch   1 Batch  260/269 - Train Accuracy: 0.6021, Validation Accuracy: 0.6253, Loss: 0.6077\n",
      "Epoch   2 Batch   10/269 - Train Accuracy: 0.6354, Validation Accuracy: 0.6452, Loss: 0.5818\n",
      "Epoch   2 Batch   20/269 - Train Accuracy: 0.6168, Validation Accuracy: 0.6381, Loss: 0.5714\n",
      "Epoch   2 Batch   30/269 - Train Accuracy: 0.6453, Validation Accuracy: 0.6309, Loss: 0.5460\n",
      "Epoch   2 Batch   40/269 - Train Accuracy: 0.6244, Validation Accuracy: 0.6424, Loss: 0.5697\n",
      "Epoch   2 Batch   50/269 - Train Accuracy: 0.6210, Validation Accuracy: 0.6476, Loss: 0.5681\n",
      "Epoch   2 Batch   60/269 - Train Accuracy: 0.6576, Validation Accuracy: 0.6567, Loss: 0.5130\n",
      "Epoch   2 Batch   70/269 - Train Accuracy: 0.6586, Validation Accuracy: 0.6554, Loss: 0.5177\n",
      "Epoch   2 Batch   80/269 - Train Accuracy: 0.6653, Validation Accuracy: 0.6551, Loss: 0.5044\n",
      "Epoch   2 Batch   90/269 - Train Accuracy: 0.6271, Validation Accuracy: 0.6619, Loss: 0.5199\n",
      "Epoch   2 Batch  100/269 - Train Accuracy: 0.6879, Validation Accuracy: 0.6684, Loss: 0.4860\n",
      "Epoch   2 Batch  110/269 - Train Accuracy: 0.6669, Validation Accuracy: 0.6634, Loss: 0.4803\n",
      "Epoch   2 Batch  120/269 - Train Accuracy: 0.6672, Validation Accuracy: 0.6595, Loss: 0.4693\n",
      "Epoch   2 Batch  130/269 - Train Accuracy: 0.6552, Validation Accuracy: 0.6656, Loss: 0.4592\n",
      "Epoch   2 Batch  140/269 - Train Accuracy: 0.6908, Validation Accuracy: 0.6871, Loss: 0.4439\n",
      "Epoch   2 Batch  150/269 - Train Accuracy: 0.6828, Validation Accuracy: 0.6674, Loss: 0.4238\n",
      "Epoch   2 Batch  160/269 - Train Accuracy: 0.7072, Validation Accuracy: 0.6773, Loss: 0.4066\n",
      "Epoch   2 Batch  170/269 - Train Accuracy: 0.7046, Validation Accuracy: 0.6895, Loss: 0.3886\n",
      "Epoch   2 Batch  180/269 - Train Accuracy: 0.7259, Validation Accuracy: 0.7044, Loss: 0.3860\n",
      "Epoch   2 Batch  190/269 - Train Accuracy: 0.5900, Validation Accuracy: 0.5888, Loss: 1.4954\n",
      "Epoch   2 Batch  200/269 - Train Accuracy: 0.6221, Validation Accuracy: 0.6435, Loss: 0.6290\n",
      "Epoch   2 Batch  210/269 - Train Accuracy: 0.6834, Validation Accuracy: 0.6673, Loss: 0.4859\n",
      "Epoch   2 Batch  220/269 - Train Accuracy: 0.6849, Validation Accuracy: 0.6793, Loss: 0.4178\n",
      "Epoch   2 Batch  230/269 - Train Accuracy: 0.7041, Validation Accuracy: 0.7002, Loss: 0.4104\n",
      "Epoch   2 Batch  240/269 - Train Accuracy: 0.7317, Validation Accuracy: 0.7045, Loss: 0.3507\n",
      "Epoch   2 Batch  250/269 - Train Accuracy: 0.7446, Validation Accuracy: 0.7213, Loss: 0.3740\n",
      "Epoch   2 Batch  260/269 - Train Accuracy: 0.7261, Validation Accuracy: 0.7405, Loss: 0.3735\n",
      "Epoch   3 Batch   10/269 - Train Accuracy: 0.7609, Validation Accuracy: 0.7533, Loss: 0.3438\n",
      "Epoch   3 Batch   20/269 - Train Accuracy: 0.7565, Validation Accuracy: 0.7633, Loss: 0.3354\n",
      "Epoch   3 Batch   30/269 - Train Accuracy: 0.7585, Validation Accuracy: 0.7562, Loss: 0.3131\n",
      "Epoch   3 Batch   40/269 - Train Accuracy: 0.7656, Validation Accuracy: 0.7552, Loss: 0.3194\n",
      "Epoch   3 Batch   50/269 - Train Accuracy: 0.7730, Validation Accuracy: 0.7685, Loss: 0.3102\n",
      "Epoch   3 Batch   60/269 - Train Accuracy: 0.7736, Validation Accuracy: 0.7685, Loss: 0.2744\n",
      "Epoch   3 Batch   70/269 - Train Accuracy: 0.8045, Validation Accuracy: 0.7749, Loss: 0.2748\n",
      "Epoch   3 Batch   80/269 - Train Accuracy: 0.7908, Validation Accuracy: 0.7896, Loss: 0.2591\n",
      "Epoch   3 Batch   90/269 - Train Accuracy: 0.7880, Validation Accuracy: 0.7825, Loss: 0.2672\n",
      "Epoch   3 Batch  100/269 - Train Accuracy: 0.8264, Validation Accuracy: 0.7969, Loss: 0.2385\n",
      "Epoch   3 Batch  110/269 - Train Accuracy: 0.7999, Validation Accuracy: 0.7962, Loss: 0.2258\n"
     ]
    },
    {
     "name": "stdout",
     "output_type": "stream",
     "text": [
      "Epoch   3 Batch  120/269 - Train Accuracy: 0.8169, Validation Accuracy: 0.8028, Loss: 0.2254\n",
      "Epoch   3 Batch  130/269 - Train Accuracy: 0.8157, Validation Accuracy: 0.8108, Loss: 0.2382\n",
      "Epoch   3 Batch  140/269 - Train Accuracy: 0.8365, Validation Accuracy: 0.8182, Loss: 0.2190\n",
      "Epoch   3 Batch  150/269 - Train Accuracy: 0.8297, Validation Accuracy: 0.8342, Loss: 0.2032\n",
      "Epoch   3 Batch  160/269 - Train Accuracy: 0.8489, Validation Accuracy: 0.8472, Loss: 0.1888\n",
      "Epoch   3 Batch  170/269 - Train Accuracy: 0.8417, Validation Accuracy: 0.8468, Loss: 0.1743\n",
      "Epoch   3 Batch  180/269 - Train Accuracy: 0.8702, Validation Accuracy: 0.8531, Loss: 0.1698\n",
      "Epoch   3 Batch  190/269 - Train Accuracy: 0.8650, Validation Accuracy: 0.8579, Loss: 0.1620\n",
      "Epoch   3 Batch  200/269 - Train Accuracy: 0.8668, Validation Accuracy: 0.8548, Loss: 0.1586\n",
      "Epoch   3 Batch  210/269 - Train Accuracy: 0.8869, Validation Accuracy: 0.8721, Loss: 0.1524\n",
      "Epoch   3 Batch  220/269 - Train Accuracy: 0.8771, Validation Accuracy: 0.8705, Loss: 0.1423\n",
      "Epoch   3 Batch  230/269 - Train Accuracy: 0.8930, Validation Accuracy: 0.8807, Loss: 0.1428\n",
      "Epoch   3 Batch  240/269 - Train Accuracy: 0.8896, Validation Accuracy: 0.8813, Loss: 0.1218\n",
      "Epoch   3 Batch  250/269 - Train Accuracy: 0.8993, Validation Accuracy: 0.8943, Loss: 0.1314\n",
      "Epoch   3 Batch  260/269 - Train Accuracy: 0.8704, Validation Accuracy: 0.8822, Loss: 0.1367\n",
      "Epoch   4 Batch   10/269 - Train Accuracy: 0.9018, Validation Accuracy: 0.8937, Loss: 0.1098\n",
      "Epoch   4 Batch   20/269 - Train Accuracy: 0.9016, Validation Accuracy: 0.8923, Loss: 0.1122\n",
      "Epoch   4 Batch   30/269 - Train Accuracy: 0.9062, Validation Accuracy: 0.8977, Loss: 0.1110\n",
      "Epoch   4 Batch   40/269 - Train Accuracy: 0.8849, Validation Accuracy: 0.8938, Loss: 0.1122\n",
      "Epoch   4 Batch   50/269 - Train Accuracy: 0.8806, Validation Accuracy: 0.8999, Loss: 0.1149\n",
      "Epoch   4 Batch   60/269 - Train Accuracy: 0.9025, Validation Accuracy: 0.9094, Loss: 0.0954\n",
      "Epoch   4 Batch   70/269 - Train Accuracy: 0.9079, Validation Accuracy: 0.8981, Loss: 0.0998\n",
      "Epoch   4 Batch   80/269 - Train Accuracy: 0.9056, Validation Accuracy: 0.8733, Loss: 0.1019\n",
      "Epoch   4 Batch   90/269 - Train Accuracy: 0.9131, Validation Accuracy: 0.9007, Loss: 0.1023\n",
      "Epoch   4 Batch  100/269 - Train Accuracy: 0.9235, Validation Accuracy: 0.8992, Loss: 0.0953\n",
      "Epoch   4 Batch  110/269 - Train Accuracy: 0.9009, Validation Accuracy: 0.9165, Loss: 0.0889\n",
      "Epoch   4 Batch  120/269 - Train Accuracy: 0.9024, Validation Accuracy: 0.9151, Loss: 0.0882\n",
      "Epoch   4 Batch  130/269 - Train Accuracy: 0.9148, Validation Accuracy: 0.9202, Loss: 0.0866\n",
      "Epoch   4 Batch  140/269 - Train Accuracy: 0.9103, Validation Accuracy: 0.9112, Loss: 0.0841\n",
      "Epoch   4 Batch  150/269 - Train Accuracy: 0.9100, Validation Accuracy: 0.9142, Loss: 0.0807\n",
      "Epoch   4 Batch  160/269 - Train Accuracy: 0.9168, Validation Accuracy: 0.9144, Loss: 0.0735\n",
      "Epoch   4 Batch  170/269 - Train Accuracy: 0.9114, Validation Accuracy: 0.9173, Loss: 0.0679\n",
      "Epoch   4 Batch  180/269 - Train Accuracy: 0.9289, Validation Accuracy: 0.9196, Loss: 0.0669\n",
      "Epoch   4 Batch  190/269 - Train Accuracy: 0.9206, Validation Accuracy: 0.9258, Loss: 0.0650\n",
      "Epoch   4 Batch  200/269 - Train Accuracy: 0.9209, Validation Accuracy: 0.9195, Loss: 0.0656\n",
      "Epoch   4 Batch  210/269 - Train Accuracy: 0.9288, Validation Accuracy: 0.9278, Loss: 0.0639\n",
      "Epoch   4 Batch  220/269 - Train Accuracy: 0.9252, Validation Accuracy: 0.9205, Loss: 0.0642\n",
      "Epoch   4 Batch  230/269 - Train Accuracy: 0.9292, Validation Accuracy: 0.9225, Loss: 0.0631\n",
      "Epoch   4 Batch  240/269 - Train Accuracy: 0.9338, Validation Accuracy: 0.9237, Loss: 0.0569\n",
      "Epoch   4 Batch  250/269 - Train Accuracy: 0.9344, Validation Accuracy: 0.9308, Loss: 0.0602\n",
      "Epoch   4 Batch  260/269 - Train Accuracy: 0.9168, Validation Accuracy: 0.9282, Loss: 0.0683\n",
      "Epoch   5 Batch   10/269 - Train Accuracy: 0.9417, Validation Accuracy: 0.9257, Loss: 0.0537\n",
      "Epoch   5 Batch   20/269 - Train Accuracy: 0.9355, Validation Accuracy: 0.9214, Loss: 0.0544\n",
      "Epoch   5 Batch   30/269 - Train Accuracy: 0.9368, Validation Accuracy: 0.9280, Loss: 0.0553\n",
      "Epoch   5 Batch   40/269 - Train Accuracy: 0.9118, Validation Accuracy: 0.9296, Loss: 0.0642\n",
      "Epoch   5 Batch   50/269 - Train Accuracy: 0.9201, Validation Accuracy: 0.9284, Loss: 0.0625\n",
      "Epoch   5 Batch   60/269 - Train Accuracy: 0.9363, Validation Accuracy: 0.9284, Loss: 0.0484\n",
      "Epoch   5 Batch   70/269 - Train Accuracy: 0.9422, Validation Accuracy: 0.9250, Loss: 0.0558\n",
      "Epoch   5 Batch   80/269 - Train Accuracy: 0.9372, Validation Accuracy: 0.9282, Loss: 0.0495\n",
      "Epoch   5 Batch   90/269 - Train Accuracy: 0.9377, Validation Accuracy: 0.9337, Loss: 0.0504\n",
      "Epoch   5 Batch  100/269 - Train Accuracy: 0.9451, Validation Accuracy: 0.9424, Loss: 0.0516\n",
      "Epoch   5 Batch  110/269 - Train Accuracy: 0.9394, Validation Accuracy: 0.9371, Loss: 0.0473\n",
      "Epoch   5 Batch  120/269 - Train Accuracy: 0.9423, Validation Accuracy: 0.9305, Loss: 0.0503\n",
      "Epoch   5 Batch  130/269 - Train Accuracy: 0.9412, Validation Accuracy: 0.9370, Loss: 0.0486\n",
      "Epoch   5 Batch  140/269 - Train Accuracy: 0.9403, Validation Accuracy: 0.9444, Loss: 0.0502\n",
      "Epoch   5 Batch  150/269 - Train Accuracy: 0.9375, Validation Accuracy: 0.9385, Loss: 0.0477\n",
      "Epoch   5 Batch  160/269 - Train Accuracy: 0.9505, Validation Accuracy: 0.9383, Loss: 0.0408\n",
      "Epoch   5 Batch  170/269 - Train Accuracy: 0.9316, Validation Accuracy: 0.9268, Loss: 0.0456\n",
      "Epoch   5 Batch  180/269 - Train Accuracy: 0.9447, Validation Accuracy: 0.9305, Loss: 0.0720\n",
      "Epoch   5 Batch  190/269 - Train Accuracy: 0.9305, Validation Accuracy: 0.9332, Loss: 0.0806\n",
      "Epoch   5 Batch  200/269 - Train Accuracy: 0.9328, Validation Accuracy: 0.9334, Loss: 0.0499\n",
      "Epoch   5 Batch  210/269 - Train Accuracy: 0.9361, Validation Accuracy: 0.9395, Loss: 0.0438\n",
      "Epoch   5 Batch  220/269 - Train Accuracy: 0.9370, Validation Accuracy: 0.9257, Loss: 0.0456\n",
      "Epoch   5 Batch  230/269 - Train Accuracy: 0.9435, Validation Accuracy: 0.9474, Loss: 0.0425\n",
      "Epoch   5 Batch  240/269 - Train Accuracy: 0.9590, Validation Accuracy: 0.9421, Loss: 0.0371\n",
      "Epoch   5 Batch  250/269 - Train Accuracy: 0.9532, Validation Accuracy: 0.9400, Loss: 0.0386\n",
      "Epoch   5 Batch  260/269 - Train Accuracy: 0.9418, Validation Accuracy: 0.9464, Loss: 0.0449\n",
      "Epoch   6 Batch   10/269 - Train Accuracy: 0.9528, Validation Accuracy: 0.9458, Loss: 0.0318\n",
      "Epoch   6 Batch   20/269 - Train Accuracy: 0.9538, Validation Accuracy: 0.9477, Loss: 0.0334\n",
      "Epoch   6 Batch   30/269 - Train Accuracy: 0.9530, Validation Accuracy: 0.9416, Loss: 0.0354\n",
      "Epoch   6 Batch   40/269 - Train Accuracy: 0.9341, Validation Accuracy: 0.9553, Loss: 0.0399\n",
      "Epoch   6 Batch   50/269 - Train Accuracy: 0.9400, Validation Accuracy: 0.9474, Loss: 0.0409\n",
      "Epoch   6 Batch   60/269 - Train Accuracy: 0.9582, Validation Accuracy: 0.9530, Loss: 0.0323\n",
      "Epoch   6 Batch   70/269 - Train Accuracy: 0.9585, Validation Accuracy: 0.9553, Loss: 0.0375\n",
      "Epoch   6 Batch   80/269 - Train Accuracy: 0.9527, Validation Accuracy: 0.9485, Loss: 0.0331\n",
      "Epoch   6 Batch   90/269 - Train Accuracy: 0.9590, Validation Accuracy: 0.9535, Loss: 0.0332\n",
      "Epoch   6 Batch  100/269 - Train Accuracy: 0.9612, Validation Accuracy: 0.9569, Loss: 0.0356\n",
      "Epoch   6 Batch  110/269 - Train Accuracy: 0.9515, Validation Accuracy: 0.9474, Loss: 0.0325\n",
      "Epoch   6 Batch  120/269 - Train Accuracy: 0.9603, Validation Accuracy: 0.9490, Loss: 0.0345\n",
      "Epoch   6 Batch  130/269 - Train Accuracy: 0.9605, Validation Accuracy: 0.9485, Loss: 0.0359\n",
      "Epoch   6 Batch  140/269 - Train Accuracy: 0.9504, Validation Accuracy: 0.9532, Loss: 0.0333\n",
      "Epoch   6 Batch  150/269 - Train Accuracy: 0.9583, Validation Accuracy: 0.9617, Loss: 0.0347\n",
      "Epoch   6 Batch  160/269 - Train Accuracy: 0.9589, Validation Accuracy: 0.9668, Loss: 0.0292\n",
      "Epoch   6 Batch  170/269 - Train Accuracy: 0.9592, Validation Accuracy: 0.9577, Loss: 0.0301\n",
      "Epoch   6 Batch  180/269 - Train Accuracy: 0.9674, Validation Accuracy: 0.9530, Loss: 0.0290\n",
      "Epoch   6 Batch  190/269 - Train Accuracy: 0.9649, Validation Accuracy: 0.9533, Loss: 0.0309\n",
      "Epoch   6 Batch  200/269 - Train Accuracy: 0.9665, Validation Accuracy: 0.9593, Loss: 0.0285\n",
      "Epoch   6 Batch  210/269 - Train Accuracy: 0.9616, Validation Accuracy: 0.9582, Loss: 0.0264\n",
      "Epoch   6 Batch  220/269 - Train Accuracy: 0.9546, Validation Accuracy: 0.9522, Loss: 0.0300\n"
     ]
    },
    {
     "name": "stdout",
     "output_type": "stream",
     "text": [
      "Epoch   6 Batch  230/269 - Train Accuracy: 0.9648, Validation Accuracy: 0.9612, Loss: 0.0295\n",
      "Epoch   6 Batch  240/269 - Train Accuracy: 0.9684, Validation Accuracy: 0.9649, Loss: 0.0269\n",
      "Epoch   6 Batch  250/269 - Train Accuracy: 0.9585, Validation Accuracy: 0.9619, Loss: 0.0277\n",
      "Epoch   6 Batch  260/269 - Train Accuracy: 0.9591, Validation Accuracy: 0.9489, Loss: 0.0336\n",
      "Epoch   7 Batch   10/269 - Train Accuracy: 0.9660, Validation Accuracy: 0.9503, Loss: 0.0243\n",
      "Epoch   7 Batch   20/269 - Train Accuracy: 0.9696, Validation Accuracy: 0.9547, Loss: 0.0242\n",
      "Epoch   7 Batch   30/269 - Train Accuracy: 0.9655, Validation Accuracy: 0.9545, Loss: 0.0277\n",
      "Epoch   7 Batch   40/269 - Train Accuracy: 0.9559, Validation Accuracy: 0.9633, Loss: 0.0332\n",
      "Epoch   7 Batch   50/269 - Train Accuracy: 0.9429, Validation Accuracy: 0.9612, Loss: 0.0307\n",
      "Epoch   7 Batch   60/269 - Train Accuracy: 0.9594, Validation Accuracy: 0.9644, Loss: 0.0266\n",
      "Epoch   7 Batch   70/269 - Train Accuracy: 0.9670, Validation Accuracy: 0.9621, Loss: 0.0286\n",
      "Epoch   7 Batch   80/269 - Train Accuracy: 0.9706, Validation Accuracy: 0.9641, Loss: 0.0242\n",
      "Epoch   7 Batch   90/269 - Train Accuracy: 0.9646, Validation Accuracy: 0.9672, Loss: 0.0252\n",
      "Epoch   7 Batch  100/269 - Train Accuracy: 0.9657, Validation Accuracy: 0.9652, Loss: 0.0281\n",
      "Epoch   7 Batch  110/269 - Train Accuracy: 0.9581, Validation Accuracy: 0.9553, Loss: 0.0245\n",
      "Epoch   7 Batch  120/269 - Train Accuracy: 0.9710, Validation Accuracy: 0.9513, Loss: 0.0256\n",
      "Epoch   7 Batch  130/269 - Train Accuracy: 0.9638, Validation Accuracy: 0.9624, Loss: 0.0290\n",
      "Epoch   7 Batch  140/269 - Train Accuracy: 0.9661, Validation Accuracy: 0.9657, Loss: 0.0259\n",
      "Epoch   7 Batch  150/269 - Train Accuracy: 0.9593, Validation Accuracy: 0.9653, Loss: 0.0264\n",
      "Epoch   7 Batch  160/269 - Train Accuracy: 0.9705, Validation Accuracy: 0.9698, Loss: 0.0234\n",
      "Epoch   7 Batch  170/269 - Train Accuracy: 0.9658, Validation Accuracy: 0.9668, Loss: 0.0236\n",
      "Epoch   7 Batch  180/269 - Train Accuracy: 0.9812, Validation Accuracy: 0.9650, Loss: 0.0222\n",
      "Epoch   7 Batch  190/269 - Train Accuracy: 0.9741, Validation Accuracy: 0.9707, Loss: 0.0231\n",
      "Epoch   7 Batch  200/269 - Train Accuracy: 0.9743, Validation Accuracy: 0.9576, Loss: 0.0205\n",
      "Epoch   7 Batch  210/269 - Train Accuracy: 0.9673, Validation Accuracy: 0.9694, Loss: 0.0199\n",
      "Epoch   7 Batch  220/269 - Train Accuracy: 0.9631, Validation Accuracy: 0.9616, Loss: 0.0242\n",
      "Epoch   7 Batch  230/269 - Train Accuracy: 0.9775, Validation Accuracy: 0.9732, Loss: 0.0239\n",
      "Epoch   7 Batch  240/269 - Train Accuracy: 0.9687, Validation Accuracy: 0.9639, Loss: 0.0208\n",
      "Epoch   7 Batch  250/269 - Train Accuracy: 0.9686, Validation Accuracy: 0.9653, Loss: 0.0231\n",
      "Epoch   7 Batch  260/269 - Train Accuracy: 0.9722, Validation Accuracy: 0.9671, Loss: 0.0264\n",
      "Epoch   8 Batch   10/269 - Train Accuracy: 0.9738, Validation Accuracy: 0.9604, Loss: 0.0184\n",
      "Epoch   8 Batch   20/269 - Train Accuracy: 0.9737, Validation Accuracy: 0.9681, Loss: 0.0200\n",
      "Epoch   8 Batch   30/269 - Train Accuracy: 0.9626, Validation Accuracy: 0.9641, Loss: 0.0230\n",
      "Epoch   8 Batch   40/269 - Train Accuracy: 0.9688, Validation Accuracy: 0.9632, Loss: 0.0240\n",
      "Epoch   8 Batch   50/269 - Train Accuracy: 0.9526, Validation Accuracy: 0.9647, Loss: 0.0254\n",
      "Epoch   8 Batch   60/269 - Train Accuracy: 0.9490, Validation Accuracy: 0.9562, Loss: 0.0368\n",
      "Epoch   8 Batch   70/269 - Train Accuracy: 0.9533, Validation Accuracy: 0.9453, Loss: 0.0389\n",
      "Epoch   8 Batch   80/269 - Train Accuracy: 0.9781, Validation Accuracy: 0.9590, Loss: 0.0260\n",
      "Epoch   8 Batch   90/269 - Train Accuracy: 0.9632, Validation Accuracy: 0.9573, Loss: 0.0263\n",
      "Epoch   8 Batch  100/269 - Train Accuracy: 0.9653, Validation Accuracy: 0.9614, Loss: 0.0258\n",
      "Epoch   8 Batch  110/269 - Train Accuracy: 0.9673, Validation Accuracy: 0.9553, Loss: 0.0208\n",
      "Epoch   8 Batch  120/269 - Train Accuracy: 0.9719, Validation Accuracy: 0.9623, Loss: 0.0226\n",
      "Epoch   8 Batch  130/269 - Train Accuracy: 0.9733, Validation Accuracy: 0.9608, Loss: 0.0243\n",
      "Epoch   8 Batch  140/269 - Train Accuracy: 0.9648, Validation Accuracy: 0.9683, Loss: 0.0214\n",
      "Epoch   8 Batch  150/269 - Train Accuracy: 0.9712, Validation Accuracy: 0.9744, Loss: 0.0216\n",
      "Epoch   8 Batch  160/269 - Train Accuracy: 0.9692, Validation Accuracy: 0.9711, Loss: 0.0189\n",
      "Epoch   8 Batch  170/269 - Train Accuracy: 0.9685, Validation Accuracy: 0.9706, Loss: 0.0203\n",
      "Epoch   8 Batch  180/269 - Train Accuracy: 0.9820, Validation Accuracy: 0.9704, Loss: 0.0170\n",
      "Epoch   8 Batch  190/269 - Train Accuracy: 0.9736, Validation Accuracy: 0.9755, Loss: 0.0196\n",
      "Epoch   8 Batch  200/269 - Train Accuracy: 0.9811, Validation Accuracy: 0.9641, Loss: 0.0148\n",
      "Epoch   8 Batch  210/269 - Train Accuracy: 0.9708, Validation Accuracy: 0.9703, Loss: 0.0165\n",
      "Epoch   8 Batch  220/269 - Train Accuracy: 0.9709, Validation Accuracy: 0.9634, Loss: 0.0203\n",
      "Epoch   8 Batch  230/269 - Train Accuracy: 0.9784, Validation Accuracy: 0.9696, Loss: 0.0185\n",
      "Epoch   8 Batch  240/269 - Train Accuracy: 0.9753, Validation Accuracy: 0.9672, Loss: 0.0169\n",
      "Epoch   8 Batch  250/269 - Train Accuracy: 0.9689, Validation Accuracy: 0.9644, Loss: 0.0179\n",
      "Epoch   8 Batch  260/269 - Train Accuracy: 0.9772, Validation Accuracy: 0.9654, Loss: 0.0204\n",
      "Epoch   9 Batch   10/269 - Train Accuracy: 0.9720, Validation Accuracy: 0.9646, Loss: 0.0163\n",
      "Epoch   9 Batch   20/269 - Train Accuracy: 0.9737, Validation Accuracy: 0.9656, Loss: 0.0174\n",
      "Epoch   9 Batch   30/269 - Train Accuracy: 0.9778, Validation Accuracy: 0.9699, Loss: 0.0191\n",
      "Epoch   9 Batch   40/269 - Train Accuracy: 0.9658, Validation Accuracy: 0.9676, Loss: 0.0202\n",
      "Epoch   9 Batch   50/269 - Train Accuracy: 0.9636, Validation Accuracy: 0.9738, Loss: 0.0212\n",
      "Epoch   9 Batch   60/269 - Train Accuracy: 0.9748, Validation Accuracy: 0.9755, Loss: 0.0174\n",
      "Epoch   9 Batch   70/269 - Train Accuracy: 0.9765, Validation Accuracy: 0.9600, Loss: 0.0175\n",
      "Epoch   9 Batch   80/269 - Train Accuracy: 0.9777, Validation Accuracy: 0.9733, Loss: 0.0147\n",
      "Epoch   9 Batch   90/269 - Train Accuracy: 0.9635, Validation Accuracy: 0.9633, Loss: 0.0164\n",
      "Epoch   9 Batch  100/269 - Train Accuracy: 0.9748, Validation Accuracy: 0.9710, Loss: 0.0191\n",
      "Epoch   9 Batch  110/269 - Train Accuracy: 0.9779, Validation Accuracy: 0.9696, Loss: 0.0156\n",
      "Epoch   9 Batch  120/269 - Train Accuracy: 0.9745, Validation Accuracy: 0.9673, Loss: 0.0172\n",
      "Epoch   9 Batch  130/269 - Train Accuracy: 0.9786, Validation Accuracy: 0.9719, Loss: 0.0211\n",
      "Epoch   9 Batch  140/269 - Train Accuracy: 0.9736, Validation Accuracy: 0.9644, Loss: 0.0173\n",
      "Epoch   9 Batch  150/269 - Train Accuracy: 0.9860, Validation Accuracy: 0.9790, Loss: 0.0171\n",
      "Epoch   9 Batch  160/269 - Train Accuracy: 0.9852, Validation Accuracy: 0.9776, Loss: 0.0152\n",
      "Epoch   9 Batch  170/269 - Train Accuracy: 0.9720, Validation Accuracy: 0.9716, Loss: 0.0157\n",
      "Epoch   9 Batch  180/269 - Train Accuracy: 0.9827, Validation Accuracy: 0.9681, Loss: 0.0147\n",
      "Epoch   9 Batch  190/269 - Train Accuracy: 0.9783, Validation Accuracy: 0.9731, Loss: 0.0148\n",
      "Epoch   9 Batch  200/269 - Train Accuracy: 0.9896, Validation Accuracy: 0.9727, Loss: 0.0127\n",
      "Epoch   9 Batch  210/269 - Train Accuracy: 0.9754, Validation Accuracy: 0.9704, Loss: 0.0141\n",
      "Epoch   9 Batch  220/269 - Train Accuracy: 0.9722, Validation Accuracy: 0.9591, Loss: 0.0169\n",
      "Epoch   9 Batch  230/269 - Train Accuracy: 0.9777, Validation Accuracy: 0.9719, Loss: 0.0157\n",
      "Epoch   9 Batch  240/269 - Train Accuracy: 0.9806, Validation Accuracy: 0.9728, Loss: 0.0137\n",
      "Epoch   9 Batch  250/269 - Train Accuracy: 0.9718, Validation Accuracy: 0.9737, Loss: 0.0144\n",
      "Epoch   9 Batch  260/269 - Train Accuracy: 0.9743, Validation Accuracy: 0.9688, Loss: 0.0168\n",
      "Model Trained and Saved\n"
     ]
    }
   ],
   "source": [
    "\"\"\"\n",
    "DON'T MODIFY ANYTHING IN THIS CELL\n",
    "\"\"\"\n",
    "def get_accuracy(target, logits):\n",
    "    \"\"\"\n",
    "    Calculate accuracy\n",
    "    \"\"\"\n",
    "    max_seq = max(target.shape[1], logits.shape[1])\n",
    "    if max_seq - target.shape[1]:\n",
    "        target = np.pad(\n",
    "            target,\n",
    "            [(0,0),(0,max_seq - target.shape[1])],\n",
    "            'constant')\n",
    "    if max_seq - logits.shape[1]:\n",
    "        logits = np.pad(\n",
    "            logits,\n",
    "            [(0,0),(0,max_seq - logits.shape[1])],\n",
    "            'constant')\n",
    "\n",
    "    return np.mean(np.equal(target, logits))\n",
    "\n",
    "# Split data to training and validation sets\n",
    "train_source = source_int_text[batch_size:]\n",
    "train_target = target_int_text[batch_size:]\n",
    "valid_source = source_int_text[:batch_size]\n",
    "valid_target = target_int_text[:batch_size]\n",
    "(valid_sources_batch, valid_targets_batch, valid_sources_lengths, valid_targets_lengths ) = next(get_batches(valid_source,\n",
    "                                                                                                             valid_target,\n",
    "                                                                                                             batch_size,\n",
    "                                                                                                             source_vocab_to_int['<PAD>'],\n",
    "                                                                                                             target_vocab_to_int['<PAD>']))                                                                                                  \n",
    "with tf.Session(graph=train_graph) as sess:\n",
    "    sess.run(tf.global_variables_initializer())\n",
    "\n",
    "    for epoch_i in range(epochs):\n",
    "        for batch_i, (source_batch, target_batch, sources_lengths, targets_lengths) in enumerate(\n",
    "                get_batches(train_source, train_target, batch_size,\n",
    "                            source_vocab_to_int['<PAD>'],\n",
    "                            target_vocab_to_int['<PAD>'])):\n",
    "\n",
    "            _, loss = sess.run(\n",
    "                [train_op, cost],\n",
    "                {input_data: source_batch,\n",
    "                 targets: target_batch,\n",
    "                 lr: learning_rate,\n",
    "                 target_sequence_length: targets_lengths,\n",
    "                 source_sequence_length: sources_lengths,\n",
    "                 keep_prob: keep_probability})\n",
    "\n",
    "\n",
    "            if batch_i % display_step == 0 and batch_i > 0:\n",
    "\n",
    "\n",
    "                batch_train_logits = sess.run(\n",
    "                    inference_logits,\n",
    "                    {input_data: source_batch,\n",
    "                     source_sequence_length: sources_lengths,\n",
    "                     target_sequence_length: targets_lengths,\n",
    "                     keep_prob: 1.0})\n",
    "\n",
    "\n",
    "                batch_valid_logits = sess.run(\n",
    "                    inference_logits,\n",
    "                    {input_data: valid_sources_batch,\n",
    "                     source_sequence_length: valid_sources_lengths,\n",
    "                     target_sequence_length: valid_targets_lengths,\n",
    "                     keep_prob: 1.0})\n",
    "\n",
    "                train_acc = get_accuracy(target_batch, batch_train_logits)\n",
    "\n",
    "                valid_acc = get_accuracy(valid_targets_batch, batch_valid_logits)\n",
    "\n",
    "                print('Epoch {:>3} Batch {:>4}/{} - Train Accuracy: {:>6.4f}, Validation Accuracy: {:>6.4f}, Loss: {:>6.4f}'\n",
    "                      .format(epoch_i, batch_i, len(source_int_text) // batch_size, train_acc, valid_acc, loss))\n",
    "\n",
    "    # Save Model\n",
    "    saver = tf.train.Saver()\n",
    "    saver.save(sess, save_path)\n",
    "    print('Model Trained and Saved')"
   ]
  },
  {
   "cell_type": "markdown",
   "metadata": {},
   "source": [
    "### Save Parameters\n",
    "Save the `batch_size` and `save_path` parameters for inference."
   ]
  },
  {
   "cell_type": "code",
   "execution_count": 46,
   "metadata": {
    "collapsed": true
   },
   "outputs": [],
   "source": [
    "\"\"\"\n",
    "DON'T MODIFY ANYTHING IN THIS CELL\n",
    "\"\"\"\n",
    "# Save parameters for checkpoint\n",
    "helper.save_params(save_path)"
   ]
  },
  {
   "cell_type": "markdown",
   "metadata": {},
   "source": [
    "# Checkpoint"
   ]
  },
  {
   "cell_type": "code",
   "execution_count": 47,
   "metadata": {
    "collapsed": true
   },
   "outputs": [],
   "source": [
    "\"\"\"\n",
    "DON'T MODIFY ANYTHING IN THIS CELL\n",
    "\"\"\"\n",
    "import tensorflow as tf\n",
    "import numpy as np\n",
    "import helper\n",
    "import problem_unittests as tests\n",
    "\n",
    "_, (source_vocab_to_int, target_vocab_to_int), (source_int_to_vocab, target_int_to_vocab) = helper.load_preprocess()\n",
    "load_path = helper.load_params()"
   ]
  },
  {
   "cell_type": "markdown",
   "metadata": {},
   "source": [
    "## Sentence to Sequence\n",
    "To feed a sentence into the model for translation, you first need to preprocess it.  Implement the function `sentence_to_seq()` to preprocess new sentences.\n",
    "\n",
    "- Convert the sentence to lowercase\n",
    "- Convert words into ids using `vocab_to_int`\n",
    " - Convert words not in the vocabulary, to the `<UNK>` word id."
   ]
  },
  {
   "cell_type": "code",
   "execution_count": 52,
   "metadata": {},
   "outputs": [
    {
     "name": "stdout",
     "output_type": "stream",
     "text": [
      "Tests Passed\n"
     ]
    }
   ],
   "source": [
    "def sentence_to_seq(sentence, vocab_to_int):\n",
    "    \"\"\"\n",
    "    Convert a sentence to a sequence of ids\n",
    "    :param sentence: String\n",
    "    :param vocab_to_int: Dictionary to go from the words to an id\n",
    "    :return: List of word ids\n",
    "    \"\"\"\n",
    "    # TODO: Implement Function\n",
    "    unk = vocab_to_int['<UNK>']\n",
    "    s = sentence.lower()\n",
    "    word_ids = [vocab_to_int[w] if w in vocab_to_int else unk for w in s.split()]\n",
    "    return word_ids\n",
    "\n",
    "\n",
    "\"\"\"\n",
    "DON'T MODIFY ANYTHING IN THIS CELL THAT IS BELOW THIS LINE\n",
    "\"\"\"\n",
    "tests.test_sentence_to_seq(sentence_to_seq)"
   ]
  },
  {
   "cell_type": "markdown",
   "metadata": {},
   "source": [
    "## Translate\n",
    "This will translate `translate_sentence` from English to French."
   ]
  },
  {
   "cell_type": "code",
   "execution_count": 53,
   "metadata": {},
   "outputs": [
    {
     "name": "stdout",
     "output_type": "stream",
     "text": [
      "INFO:tensorflow:Restoring parameters from checkpoints/dev\n",
      "Input\n",
      "  Word Ids:      [56, 144, 161, 70, 213, 191, 152]\n",
      "  English Words: ['he', 'saw', 'a', 'old', 'yellow', 'truck', '.']\n",
      "\n",
      "Prediction\n",
      "  Word Ids:      [106, 233, 242, 53, 302, 197, 91, 227, 1]\n",
      "  French Words: il a vu est moins le jaune . <EOS>\n"
     ]
    }
   ],
   "source": [
    "translate_sentence = 'he saw a old yellow truck .'\n",
    "\n",
    "\n",
    "\"\"\"\n",
    "DON'T MODIFY ANYTHING IN THIS CELL\n",
    "\"\"\"\n",
    "translate_sentence = sentence_to_seq(translate_sentence, source_vocab_to_int)\n",
    "\n",
    "loaded_graph = tf.Graph()\n",
    "with tf.Session(graph=loaded_graph) as sess:\n",
    "    # Load saved model\n",
    "    loader = tf.train.import_meta_graph(load_path + '.meta')\n",
    "    loader.restore(sess, load_path)\n",
    "\n",
    "    input_data = loaded_graph.get_tensor_by_name('input:0')\n",
    "    logits = loaded_graph.get_tensor_by_name('predictions:0')\n",
    "    target_sequence_length = loaded_graph.get_tensor_by_name('target_sequence_length:0')\n",
    "    source_sequence_length = loaded_graph.get_tensor_by_name('source_sequence_length:0')\n",
    "    keep_prob = loaded_graph.get_tensor_by_name('keep_prob:0')\n",
    "\n",
    "    translate_logits = sess.run(logits, {input_data: [translate_sentence]*batch_size,\n",
    "                                         target_sequence_length: [len(translate_sentence)*2]*batch_size,\n",
    "                                         source_sequence_length: [len(translate_sentence)]*batch_size,\n",
    "                                         keep_prob: 1.0})[0]\n",
    "\n",
    "print('Input')\n",
    "print('  Word Ids:      {}'.format([i for i in translate_sentence]))\n",
    "print('  English Words: {}'.format([source_int_to_vocab[i] for i in translate_sentence]))\n",
    "\n",
    "print('\\nPrediction')\n",
    "print('  Word Ids:      {}'.format([i for i in translate_logits]))\n",
    "print('  French Words: {}'.format(\" \".join([target_int_to_vocab[i] for i in translate_logits])))\n"
   ]
  },
  {
   "cell_type": "markdown",
   "metadata": {},
   "source": [
    "## Imperfect Translation\n",
    "You might notice that some sentences translate better than others.  Since the dataset you're using only has a vocabulary of 227 English words of the thousands that you use, you're only going to see good results using these words.  For this project, you don't need a perfect translation. However, if you want to create a better translation model, you'll need better data.\n",
    "\n",
    "You can train on the [WMT10 French-English corpus](http://www.statmt.org/wmt10/training-giga-fren.tar).  This dataset has more vocabulary and richer in topics discussed.  However, this will take you days to train, so make sure you've a GPU and the neural network is performing well on dataset we provided.  Just make sure you play with the WMT10 corpus after you've submitted this project.\n",
    "## Submitting This Project\n",
    "When submitting this project, make sure to run all the cells before saving the notebook. Save the notebook file as \"dlnd_language_translation.ipynb\" and save it as a HTML file under \"File\" -> \"Download as\". Include the \"helper.py\" and \"problem_unittests.py\" files in your submission."
   ]
  }
 ],
 "metadata": {
  "anaconda-cloud": {},
  "kernelspec": {
   "display_name": "Python 3",
   "language": "python",
   "name": "python3"
  },
  "language_info": {
   "codemirror_mode": {
    "name": "ipython",
    "version": 3
   },
   "file_extension": ".py",
   "mimetype": "text/x-python",
   "name": "python",
   "nbconvert_exporter": "python",
   "pygments_lexer": "ipython3",
   "version": "3.6.1"
  }
 },
 "nbformat": 4,
 "nbformat_minor": 1
}
